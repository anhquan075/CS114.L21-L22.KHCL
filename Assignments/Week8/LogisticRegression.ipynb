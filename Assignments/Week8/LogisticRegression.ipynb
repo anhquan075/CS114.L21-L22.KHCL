{
  "nbformat": 4,
  "nbformat_minor": 0,
  "metadata": {
    "colab": {
      "name": "LogisticRegression.ipynb",
      "provenance": [],
      "collapsed_sections": [],
      "toc_visible": true
    },
    "kernelspec": {
      "name": "python3",
      "display_name": "Python 3"
    },
    "language_info": {
      "name": "python"
    }
  },
  "cells": [
    {
      "cell_type": "code",
      "metadata": {
        "id": "8CTtq6Ngz9cl"
      },
      "source": [
        "import pandas as pd\n",
        "import numpy as np\n",
        "import matplotlib.pyplot as plt\n",
        "import seaborn as sns"
      ],
      "execution_count": 286,
      "outputs": []
    },
    {
      "cell_type": "markdown",
      "metadata": {
        "id": "kJB4w-mr02ph"
      },
      "source": [
        "# Read csv file"
      ]
    },
    {
      "cell_type": "code",
      "metadata": {
        "id": "4L3Wsdsiz16r"
      },
      "source": [
        "url = 'https://drive.google.com/file/d/1r1uTD3yja3oRPwUpY4QanfyBBFUSHwQf/view?usp=sharing'\n",
        "path = 'https://drive.google.com/uc?export=download&id='+url.split('/')[-2]\n",
        "data = pd.read_csv(path)"
      ],
      "execution_count": 287,
      "outputs": []
    },
    {
      "cell_type": "code",
      "metadata": {
        "colab": {
          "base_uri": "https://localhost:8080/",
          "height": 279
        },
        "id": "eRcfPp_C10kO",
        "outputId": "79753dc4-549d-4ee7-b8df-01bdc702ee50"
      },
      "source": [
        "data.head()"
      ],
      "execution_count": 288,
      "outputs": [
        {
          "output_type": "execute_result",
          "data": {
            "text/html": [
              "<div>\n",
              "<style scoped>\n",
              "    .dataframe tbody tr th:only-of-type {\n",
              "        vertical-align: middle;\n",
              "    }\n",
              "\n",
              "    .dataframe tbody tr th {\n",
              "        vertical-align: top;\n",
              "    }\n",
              "\n",
              "    .dataframe thead th {\n",
              "        text-align: right;\n",
              "    }\n",
              "</style>\n",
              "<table border=\"1\" class=\"dataframe\">\n",
              "  <thead>\n",
              "    <tr style=\"text-align: right;\">\n",
              "      <th></th>\n",
              "      <th>id</th>\n",
              "      <th>assignment_id</th>\n",
              "      <th>problem_id</th>\n",
              "      <th>user_id</th>\n",
              "      <th>is_final</th>\n",
              "      <th>status</th>\n",
              "      <th>pre_score</th>\n",
              "      <th>coefficient</th>\n",
              "      <th>file_name</th>\n",
              "      <th>language_id</th>\n",
              "      <th>created_at</th>\n",
              "      <th>updated_at</th>\n",
              "    </tr>\n",
              "  </thead>\n",
              "  <tbody>\n",
              "    <tr>\n",
              "      <th>0</th>\n",
              "      <td>4</td>\n",
              "      <td>0</td>\n",
              "      <td>3</td>\n",
              "      <td>4</td>\n",
              "      <td>1</td>\n",
              "      <td>SCORE</td>\n",
              "      <td>10000</td>\n",
              "      <td>100</td>\n",
              "      <td>solution-0</td>\n",
              "      <td>2</td>\n",
              "      <td>2020-10-30 10:58:11</td>\n",
              "      <td>2020-10-30 10:58:19</td>\n",
              "    </tr>\n",
              "    <tr>\n",
              "      <th>1</th>\n",
              "      <td>5</td>\n",
              "      <td>0</td>\n",
              "      <td>4</td>\n",
              "      <td>4</td>\n",
              "      <td>1</td>\n",
              "      <td>SCORE</td>\n",
              "      <td>10000</td>\n",
              "      <td>100</td>\n",
              "      <td>solution-1</td>\n",
              "      <td>2</td>\n",
              "      <td>2020-10-30 11:07:09</td>\n",
              "      <td>2020-10-30 11:07:17</td>\n",
              "    </tr>\n",
              "    <tr>\n",
              "      <th>2</th>\n",
              "      <td>6</td>\n",
              "      <td>0</td>\n",
              "      <td>5</td>\n",
              "      <td>4</td>\n",
              "      <td>0</td>\n",
              "      <td>Compilation Error</td>\n",
              "      <td>0</td>\n",
              "      <td>100</td>\n",
              "      <td>solution-2</td>\n",
              "      <td>2</td>\n",
              "      <td>2020-10-30 11:08:01</td>\n",
              "      <td>2020-10-30 11:23:36</td>\n",
              "    </tr>\n",
              "    <tr>\n",
              "      <th>3</th>\n",
              "      <td>7</td>\n",
              "      <td>0</td>\n",
              "      <td>5</td>\n",
              "      <td>4</td>\n",
              "      <td>0</td>\n",
              "      <td>Compilation Error</td>\n",
              "      <td>0</td>\n",
              "      <td>100</td>\n",
              "      <td>solution-3</td>\n",
              "      <td>2</td>\n",
              "      <td>2020-10-30 11:11:41</td>\n",
              "      <td>2020-10-30 11:11:42</td>\n",
              "    </tr>\n",
              "    <tr>\n",
              "      <th>4</th>\n",
              "      <td>8</td>\n",
              "      <td>0</td>\n",
              "      <td>5</td>\n",
              "      <td>4</td>\n",
              "      <td>0</td>\n",
              "      <td>Compilation Error</td>\n",
              "      <td>0</td>\n",
              "      <td>100</td>\n",
              "      <td>solution-4</td>\n",
              "      <td>2</td>\n",
              "      <td>2020-10-30 11:15:06</td>\n",
              "      <td>2020-10-30 11:15:07</td>\n",
              "    </tr>\n",
              "  </tbody>\n",
              "</table>\n",
              "</div>"
            ],
            "text/plain": [
              "   id  assignment_id  ...           created_at           updated_at\n",
              "0   4              0  ...  2020-10-30 10:58:11  2020-10-30 10:58:19\n",
              "1   5              0  ...  2020-10-30 11:07:09  2020-10-30 11:07:17\n",
              "2   6              0  ...  2020-10-30 11:08:01  2020-10-30 11:23:36\n",
              "3   7              0  ...  2020-10-30 11:11:41  2020-10-30 11:11:42\n",
              "4   8              0  ...  2020-10-30 11:15:06  2020-10-30 11:15:07\n",
              "\n",
              "[5 rows x 12 columns]"
            ]
          },
          "metadata": {
            "tags": []
          },
          "execution_count": 288
        }
      ]
    },
    {
      "cell_type": "code",
      "metadata": {
        "colab": {
          "base_uri": "https://localhost:8080/"
        },
        "id": "hwJ8S_8Lbtr7",
        "outputId": "6d1d424e-cb74-445e-a9f8-ad992e6d50f8"
      },
      "source": [
        "#Xem có bao nhiêu problem\n",
        "data['problem_id'].nunique()"
      ],
      "execution_count": 289,
      "outputs": [
        {
          "output_type": "execute_result",
          "data": {
            "text/plain": [
              "634"
            ]
          },
          "metadata": {
            "tags": []
          },
          "execution_count": 289
        }
      ]
    },
    {
      "cell_type": "markdown",
      "metadata": {
        "id": "8GCOq52rhL_u"
      },
      "source": [
        "# Discover Data"
      ]
    },
    {
      "cell_type": "code",
      "metadata": {
        "colab": {
          "base_uri": "https://localhost:8080/"
        },
        "id": "D0waUA-a2hn6",
        "outputId": "9dcf453f-6dd9-4ade-d603-327cf976e12b"
      },
      "source": [
        "data.shape"
      ],
      "execution_count": 290,
      "outputs": [
        {
          "output_type": "execute_result",
          "data": {
            "text/plain": [
              "(264606, 12)"
            ]
          },
          "metadata": {
            "tags": []
          },
          "execution_count": 290
        }
      ]
    },
    {
      "cell_type": "code",
      "metadata": {
        "colab": {
          "base_uri": "https://localhost:8080/"
        },
        "id": "QazkryIZ2mLO",
        "outputId": "419d3491-7cb8-4009-a93e-21e5e48039b5"
      },
      "source": [
        "data.info()"
      ],
      "execution_count": 291,
      "outputs": [
        {
          "output_type": "stream",
          "text": [
            "<class 'pandas.core.frame.DataFrame'>\n",
            "RangeIndex: 264606 entries, 0 to 264605\n",
            "Data columns (total 12 columns):\n",
            " #   Column         Non-Null Count   Dtype \n",
            "---  ------         --------------   ----- \n",
            " 0   id             264606 non-null  int64 \n",
            " 1   assignment_id  264606 non-null  int64 \n",
            " 2   problem_id     264606 non-null  int64 \n",
            " 3   user_id        264606 non-null  int64 \n",
            " 4   is_final       264606 non-null  int64 \n",
            " 5   status         264605 non-null  object\n",
            " 6   pre_score      264606 non-null  int64 \n",
            " 7   coefficient    264606 non-null  object\n",
            " 8   file_name      264606 non-null  object\n",
            " 9   language_id    264606 non-null  int64 \n",
            " 10  created_at     264606 non-null  object\n",
            " 11  updated_at     264606 non-null  object\n",
            "dtypes: int64(7), object(5)\n",
            "memory usage: 24.2+ MB\n"
          ],
          "name": "stdout"
        }
      ]
    },
    {
      "cell_type": "code",
      "metadata": {
        "colab": {
          "base_uri": "https://localhost:8080/"
        },
        "id": "COSVLtkm2qXq",
        "outputId": "0d6f7893-8577-4790-8a4b-6a19cf80c1e9"
      },
      "source": [
        "data.isna().sum()"
      ],
      "execution_count": 292,
      "outputs": [
        {
          "output_type": "execute_result",
          "data": {
            "text/plain": [
              "id               0\n",
              "assignment_id    0\n",
              "problem_id       0\n",
              "user_id          0\n",
              "is_final         0\n",
              "status           1\n",
              "pre_score        0\n",
              "coefficient      0\n",
              "file_name        0\n",
              "language_id      0\n",
              "created_at       0\n",
              "updated_at       0\n",
              "dtype: int64"
            ]
          },
          "metadata": {
            "tags": []
          },
          "execution_count": 292
        }
      ]
    },
    {
      "cell_type": "markdown",
      "metadata": {
        "id": "yf6p83Tb2wDF"
      },
      "source": [
        "=> 1 status null và các dữ liệu còn lại đầy đủ"
      ]
    },
    {
      "cell_type": "code",
      "metadata": {
        "colab": {
          "base_uri": "https://localhost:8080/",
          "height": 401
        },
        "id": "DEvxHZnG2tFK",
        "outputId": "baed3f09-30cd-4469-ac0c-2500277cc011"
      },
      "source": [
        "sns.scatterplot(data['user_id'],data['status'], hue=data['status'])"
      ],
      "execution_count": 293,
      "outputs": [
        {
          "output_type": "stream",
          "text": [
            "/usr/local/lib/python3.7/dist-packages/seaborn/_decorators.py:43: FutureWarning: Pass the following variables as keyword args: x, y. From version 0.12, the only valid positional argument will be `data`, and passing other arguments without an explicit keyword will result in an error or misinterpretation.\n",
            "  FutureWarning\n"
          ],
          "name": "stderr"
        },
        {
          "output_type": "execute_result",
          "data": {
            "text/plain": [
              "<matplotlib.axes._subplots.AxesSubplot at 0x7fe61585d210>"
            ]
          },
          "metadata": {
            "tags": []
          },
          "execution_count": 293
        },
        {
          "output_type": "stream",
          "text": [
            "/usr/local/lib/python3.7/dist-packages/google/colab/_event_manager.py:28: UserWarning: Creating legend with loc=\"best\" can be slow with large amounts of data.\n",
            "  func(*args, **kwargs)\n",
            "/usr/local/lib/python3.7/dist-packages/IPython/core/pylabtools.py:125: UserWarning: Creating legend with loc=\"best\" can be slow with large amounts of data.\n",
            "  fig.canvas.print_figure(bytes_io, **kw)\n"
          ],
          "name": "stderr"
        },
        {
          "output_type": "display_data",
          "data": {
            "image/png": "[encoded data removed]",
            "text/plain": [
              "<Figure size 432x288 with 1 Axes>"
            ]
          },
          "metadata": {
            "tags": []
          }
        }
      ]
    },
    {
      "cell_type": "code",
      "metadata": {
        "colab": {
          "base_uri": "https://localhost:8080/"
        },
        "id": "E-JWOl4G7Wpt",
        "outputId": "674b0a21-a8ef-4eac-84e1-72a86f29d52e"
      },
      "source": [
        "data['user_id'].nunique()"
      ],
      "execution_count": 294,
      "outputs": [
        {
          "output_type": "execute_result",
          "data": {
            "text/plain": [
              "1159"
            ]
          },
          "metadata": {
            "tags": []
          },
          "execution_count": 294
        }
      ]
    },
    {
      "cell_type": "markdown",
      "metadata": {
        "id": "p9Yox4IYrk_5"
      },
      "source": [
        "## Group data"
      ]
    },
    {
      "cell_type": "code",
      "metadata": {
        "colab": {
          "base_uri": "https://localhost:8080/",
          "height": 603
        },
        "id": "axgUw64X8Iya",
        "outputId": "9d3674fd-5dcf-4b1d-8f38-3254ff19e702"
      },
      "source": [
        "data_grouped = data.groupby(data['user_id'])\n",
        "data_grouped.head()"
      ],
      "execution_count": 295,
      "outputs": [
        {
          "output_type": "execute_result",
          "data": {
            "text/html": [
              "<div>\n",
              "<style scoped>\n",
              "    .dataframe tbody tr th:only-of-type {\n",
              "        vertical-align: middle;\n",
              "    }\n",
              "\n",
              "    .dataframe tbody tr th {\n",
              "        vertical-align: top;\n",
              "    }\n",
              "\n",
              "    .dataframe thead th {\n",
              "        text-align: right;\n",
              "    }\n",
              "</style>\n",
              "<table border=\"1\" class=\"dataframe\">\n",
              "  <thead>\n",
              "    <tr style=\"text-align: right;\">\n",
              "      <th></th>\n",
              "      <th>id</th>\n",
              "      <th>assignment_id</th>\n",
              "      <th>problem_id</th>\n",
              "      <th>user_id</th>\n",
              "      <th>is_final</th>\n",
              "      <th>status</th>\n",
              "      <th>pre_score</th>\n",
              "      <th>coefficient</th>\n",
              "      <th>file_name</th>\n",
              "      <th>language_id</th>\n",
              "      <th>created_at</th>\n",
              "      <th>updated_at</th>\n",
              "    </tr>\n",
              "  </thead>\n",
              "  <tbody>\n",
              "    <tr>\n",
              "      <th>0</th>\n",
              "      <td>4</td>\n",
              "      <td>0</td>\n",
              "      <td>3</td>\n",
              "      <td>4</td>\n",
              "      <td>1</td>\n",
              "      <td>SCORE</td>\n",
              "      <td>10000</td>\n",
              "      <td>100</td>\n",
              "      <td>solution-0</td>\n",
              "      <td>2</td>\n",
              "      <td>2020-10-30 10:58:11</td>\n",
              "      <td>2020-10-30 10:58:19</td>\n",
              "    </tr>\n",
              "    <tr>\n",
              "      <th>1</th>\n",
              "      <td>5</td>\n",
              "      <td>0</td>\n",
              "      <td>4</td>\n",
              "      <td>4</td>\n",
              "      <td>1</td>\n",
              "      <td>SCORE</td>\n",
              "      <td>10000</td>\n",
              "      <td>100</td>\n",
              "      <td>solution-1</td>\n",
              "      <td>2</td>\n",
              "      <td>2020-10-30 11:07:09</td>\n",
              "      <td>2020-10-30 11:07:17</td>\n",
              "    </tr>\n",
              "    <tr>\n",
              "      <th>2</th>\n",
              "      <td>6</td>\n",
              "      <td>0</td>\n",
              "      <td>5</td>\n",
              "      <td>4</td>\n",
              "      <td>0</td>\n",
              "      <td>Compilation Error</td>\n",
              "      <td>0</td>\n",
              "      <td>100</td>\n",
              "      <td>solution-2</td>\n",
              "      <td>2</td>\n",
              "      <td>2020-10-30 11:08:01</td>\n",
              "      <td>2020-10-30 11:23:36</td>\n",
              "    </tr>\n",
              "    <tr>\n",
              "      <th>3</th>\n",
              "      <td>7</td>\n",
              "      <td>0</td>\n",
              "      <td>5</td>\n",
              "      <td>4</td>\n",
              "      <td>0</td>\n",
              "      <td>Compilation Error</td>\n",
              "      <td>0</td>\n",
              "      <td>100</td>\n",
              "      <td>solution-3</td>\n",
              "      <td>2</td>\n",
              "      <td>2020-10-30 11:11:41</td>\n",
              "      <td>2020-10-30 11:11:42</td>\n",
              "    </tr>\n",
              "    <tr>\n",
              "      <th>4</th>\n",
              "      <td>8</td>\n",
              "      <td>0</td>\n",
              "      <td>5</td>\n",
              "      <td>4</td>\n",
              "      <td>0</td>\n",
              "      <td>Compilation Error</td>\n",
              "      <td>0</td>\n",
              "      <td>100</td>\n",
              "      <td>solution-4</td>\n",
              "      <td>2</td>\n",
              "      <td>2020-10-30 11:15:06</td>\n",
              "      <td>2020-10-30 11:15:07</td>\n",
              "    </tr>\n",
              "    <tr>\n",
              "      <th>...</th>\n",
              "      <td>...</td>\n",
              "      <td>...</td>\n",
              "      <td>...</td>\n",
              "      <td>...</td>\n",
              "      <td>...</td>\n",
              "      <td>...</td>\n",
              "      <td>...</td>\n",
              "      <td>...</td>\n",
              "      <td>...</td>\n",
              "      <td>...</td>\n",
              "      <td>...</td>\n",
              "      <td>...</td>\n",
              "    </tr>\n",
              "    <tr>\n",
              "      <th>263816</th>\n",
              "      <td>265882</td>\n",
              "      <td>383</td>\n",
              "      <td>1</td>\n",
              "      <td>1452</td>\n",
              "      <td>0</td>\n",
              "      <td>Compilation Error</td>\n",
              "      <td>0</td>\n",
              "      <td>100</td>\n",
              "      <td>solution-upload-3110</td>\n",
              "      <td>2</td>\n",
              "      <td>2021-03-20 15:17:30</td>\n",
              "      <td>2021-03-20 15:46:58</td>\n",
              "    </tr>\n",
              "    <tr>\n",
              "      <th>263821</th>\n",
              "      <td>265887</td>\n",
              "      <td>383</td>\n",
              "      <td>1</td>\n",
              "      <td>1452</td>\n",
              "      <td>0</td>\n",
              "      <td>Compilation Error</td>\n",
              "      <td>0</td>\n",
              "      <td>100</td>\n",
              "      <td>solution-3115</td>\n",
              "      <td>2</td>\n",
              "      <td>2021-03-20 15:20:50</td>\n",
              "      <td>2021-03-20 15:20:50</td>\n",
              "    </tr>\n",
              "    <tr>\n",
              "      <th>263825</th>\n",
              "      <td>265891</td>\n",
              "      <td>383</td>\n",
              "      <td>1</td>\n",
              "      <td>1452</td>\n",
              "      <td>0</td>\n",
              "      <td>Compilation Error</td>\n",
              "      <td>0</td>\n",
              "      <td>100</td>\n",
              "      <td>solution-upload-3119</td>\n",
              "      <td>2</td>\n",
              "      <td>2021-03-20 15:23:39</td>\n",
              "      <td>2021-03-20 15:23:39</td>\n",
              "    </tr>\n",
              "    <tr>\n",
              "      <th>263831</th>\n",
              "      <td>265897</td>\n",
              "      <td>383</td>\n",
              "      <td>1</td>\n",
              "      <td>1452</td>\n",
              "      <td>0</td>\n",
              "      <td>Compilation Error</td>\n",
              "      <td>0</td>\n",
              "      <td>100</td>\n",
              "      <td>solution-3125</td>\n",
              "      <td>2</td>\n",
              "      <td>2021-03-20 15:27:07</td>\n",
              "      <td>2021-03-20 15:27:07</td>\n",
              "    </tr>\n",
              "    <tr>\n",
              "      <th>263834</th>\n",
              "      <td>265900</td>\n",
              "      <td>383</td>\n",
              "      <td>1</td>\n",
              "      <td>1452</td>\n",
              "      <td>0</td>\n",
              "      <td>Compilation Error</td>\n",
              "      <td>0</td>\n",
              "      <td>100</td>\n",
              "      <td>solution-3128</td>\n",
              "      <td>2</td>\n",
              "      <td>2021-03-20 15:27:39</td>\n",
              "      <td>2021-03-20 15:27:40</td>\n",
              "    </tr>\n",
              "  </tbody>\n",
              "</table>\n",
              "<p>5760 rows × 12 columns</p>\n",
              "</div>"
            ],
            "text/plain": [
              "            id  assignment_id  ...           created_at           updated_at\n",
              "0            4              0  ...  2020-10-30 10:58:11  2020-10-30 10:58:19\n",
              "1            5              0  ...  2020-10-30 11:07:09  2020-10-30 11:07:17\n",
              "2            6              0  ...  2020-10-30 11:08:01  2020-10-30 11:23:36\n",
              "3            7              0  ...  2020-10-30 11:11:41  2020-10-30 11:11:42\n",
              "4            8              0  ...  2020-10-30 11:15:06  2020-10-30 11:15:07\n",
              "...        ...            ...  ...                  ...                  ...\n",
              "263816  265882            383  ...  2021-03-20 15:17:30  2021-03-20 15:46:58\n",
              "263821  265887            383  ...  2021-03-20 15:20:50  2021-03-20 15:20:50\n",
              "263825  265891            383  ...  2021-03-20 15:23:39  2021-03-20 15:23:39\n",
              "263831  265897            383  ...  2021-03-20 15:27:07  2021-03-20 15:27:07\n",
              "263834  265900            383  ...  2021-03-20 15:27:39  2021-03-20 15:27:40\n",
              "\n",
              "[5760 rows x 12 columns]"
            ]
          },
          "metadata": {
            "tags": []
          },
          "execution_count": 295
        }
      ]
    },
    {
      "cell_type": "code",
      "metadata": {
        "colab": {
          "base_uri": "https://localhost:8080/"
        },
        "id": "fPptY0abdzh3",
        "outputId": "93af647e-e4c4-4293-8d14-39fb821b0a88"
      },
      "source": [
        "# Dem submit cua tung user_id\n",
        "data_grouped['user_id'].count()"
      ],
      "execution_count": 296,
      "outputs": [
        {
          "output_type": "execute_result",
          "data": {
            "text/plain": [
              "user_id\n",
              "1         2\n",
              "4        54\n",
              "5         6\n",
              "6       130\n",
              "7         5\n",
              "       ... \n",
              "1860     76\n",
              "1862     12\n",
              "1864    187\n",
              "1865     99\n",
              "1868     47\n",
              "Name: user_id, Length: 1159, dtype: int64"
            ]
          },
          "metadata": {
            "tags": []
          },
          "execution_count": 296
        }
      ]
    },
    {
      "cell_type": "code",
      "metadata": {
        "colab": {
          "base_uri": "https://localhost:8080/",
          "height": 425
        },
        "id": "n3qkiyDLfXQ8",
        "outputId": "34c0a5fd-dbd1-48cc-e3d0-f10fa44580bc"
      },
      "source": [
        "fig = plt.figure(figsize=(15,5))\n",
        "fig.suptitle(\"Số lượng submit của từng học sinh\")\n",
        "sns.set_style('whitegrid')\n",
        "sns.distplot(data_grouped['user_id'].count(),hist= True)\n",
        "plt.show()"
      ],
      "execution_count": 297,
      "outputs": [
        {
          "output_type": "stream",
          "text": [
            "/usr/local/lib/python3.7/dist-packages/seaborn/distributions.py:2557: FutureWarning: `distplot` is a deprecated function and will be removed in a future version. Please adapt your code to use either `displot` (a figure-level function with similar flexibility) or `histplot` (an axes-level function for histograms).\n",
            "  warnings.warn(msg, FutureWarning)\n"
          ],
          "name": "stderr"
        },
        {
          "output_type": "display_data",
          "data": {
            "image/png": "[encoded data removed]",
            "text/plain": [
              "<Figure size 1080x360 with 1 Axes>"
            ]
          },
          "metadata": {
            "tags": []
          }
        }
      ]
    },
    {
      "cell_type": "markdown",
      "metadata": {
        "id": "Ue8I6H7vk1YJ"
      },
      "source": [
        "## Nhận xét"
      ]
    },
    {
      "cell_type": "markdown",
      "metadata": {
        "id": "N4eUq4qbk42W"
      },
      "source": [
        "* Số lượng submit nhiều nhất rơi vào khoảng user_id từ user_id 40 -> 240.\n",
        "* Càng về sau số lần submit càng giảm."
      ]
    },
    {
      "cell_type": "markdown",
      "metadata": {
        "id": "h1jbwlVIq5aS"
      },
      "source": [
        "# Xem thử tổng điểm của từng sinh viên"
      ]
    },
    {
      "cell_type": "code",
      "metadata": {
        "id": "vIMSD0Z_q2aB"
      },
      "source": [
        "sum_score = data.groupby(['user_id', \"problem_id\"])\n",
        "# Điểm cao nhất mà từng user đạt được theo từng problem\n",
        "sum_score = sum_score['pre_score'].max()"
      ],
      "execution_count": 298,
      "outputs": []
    },
    {
      "cell_type": "code",
      "metadata": {
        "colab": {
          "base_uri": "https://localhost:8080/"
        },
        "id": "zuDsGgxqrLAW",
        "outputId": "47324f2a-26af-44a1-dd98-9464d1d17d9b"
      },
      "source": [
        "sum_score.head(20)"
      ],
      "execution_count": 299,
      "outputs": [
        {
          "output_type": "execute_result",
          "data": {
            "text/plain": [
              "user_id  problem_id\n",
              "1        81                0\n",
              "         370           10000\n",
              "4        3             10000\n",
              "         4             10000\n",
              "         5             10000\n",
              "         6             10000\n",
              "         7             10000\n",
              "         8             10000\n",
              "         9             10000\n",
              "         81                0\n",
              "         101           10000\n",
              "         104           10000\n",
              "         106           10000\n",
              "         107           10000\n",
              "         108           10000\n",
              "         109           10000\n",
              "         110           10000\n",
              "         111           10000\n",
              "         112           10000\n",
              "         117           10000\n",
              "Name: pre_score, dtype: int64"
            ]
          },
          "metadata": {
            "tags": []
          },
          "execution_count": 299
        }
      ]
    },
    {
      "cell_type": "code",
      "metadata": {
        "colab": {
          "base_uri": "https://localhost:8080/",
          "height": 402
        },
        "id": "PM22gSPotsRi",
        "outputId": "1f0f2917-db83-4626-8314-93be240ba612"
      },
      "source": [
        "# Tạo 1 bảng đếm tổng lần submit mỗi user_id\n",
        "time_submit = data_grouped['id'].count()\n",
        "table  = time_submit.reset_index().rename(columns = {'id':'time_submit'})\n",
        "table"
      ],
      "execution_count": 300,
      "outputs": [
        {
          "output_type": "execute_result",
          "data": {
            "text/html": [
              "<div>\n",
              "<style scoped>\n",
              "    .dataframe tbody tr th:only-of-type {\n",
              "        vertical-align: middle;\n",
              "    }\n",
              "\n",
              "    .dataframe tbody tr th {\n",
              "        vertical-align: top;\n",
              "    }\n",
              "\n",
              "    .dataframe thead th {\n",
              "        text-align: right;\n",
              "    }\n",
              "</style>\n",
              "<table border=\"1\" class=\"dataframe\">\n",
              "  <thead>\n",
              "    <tr style=\"text-align: right;\">\n",
              "      <th></th>\n",
              "      <th>user_id</th>\n",
              "      <th>time_submit</th>\n",
              "    </tr>\n",
              "  </thead>\n",
              "  <tbody>\n",
              "    <tr>\n",
              "      <th>0</th>\n",
              "      <td>1</td>\n",
              "      <td>2</td>\n",
              "    </tr>\n",
              "    <tr>\n",
              "      <th>1</th>\n",
              "      <td>4</td>\n",
              "      <td>54</td>\n",
              "    </tr>\n",
              "    <tr>\n",
              "      <th>2</th>\n",
              "      <td>5</td>\n",
              "      <td>6</td>\n",
              "    </tr>\n",
              "    <tr>\n",
              "      <th>3</th>\n",
              "      <td>6</td>\n",
              "      <td>130</td>\n",
              "    </tr>\n",
              "    <tr>\n",
              "      <th>4</th>\n",
              "      <td>7</td>\n",
              "      <td>5</td>\n",
              "    </tr>\n",
              "    <tr>\n",
              "      <th>...</th>\n",
              "      <td>...</td>\n",
              "      <td>...</td>\n",
              "    </tr>\n",
              "    <tr>\n",
              "      <th>1154</th>\n",
              "      <td>1860</td>\n",
              "      <td>76</td>\n",
              "    </tr>\n",
              "    <tr>\n",
              "      <th>1155</th>\n",
              "      <td>1862</td>\n",
              "      <td>12</td>\n",
              "    </tr>\n",
              "    <tr>\n",
              "      <th>1156</th>\n",
              "      <td>1864</td>\n",
              "      <td>187</td>\n",
              "    </tr>\n",
              "    <tr>\n",
              "      <th>1157</th>\n",
              "      <td>1865</td>\n",
              "      <td>99</td>\n",
              "    </tr>\n",
              "    <tr>\n",
              "      <th>1158</th>\n",
              "      <td>1868</td>\n",
              "      <td>47</td>\n",
              "    </tr>\n",
              "  </tbody>\n",
              "</table>\n",
              "<p>1159 rows × 2 columns</p>\n",
              "</div>"
            ],
            "text/plain": [
              "      user_id  time_submit\n",
              "0           1            2\n",
              "1           4           54\n",
              "2           5            6\n",
              "3           6          130\n",
              "4           7            5\n",
              "...       ...          ...\n",
              "1154     1860           76\n",
              "1155     1862           12\n",
              "1156     1864          187\n",
              "1157     1865           99\n",
              "1158     1868           47\n",
              "\n",
              "[1159 rows x 2 columns]"
            ]
          },
          "metadata": {
            "tags": []
          },
          "execution_count": 300
        }
      ]
    },
    {
      "cell_type": "code",
      "metadata": {
        "colab": {
          "base_uri": "https://localhost:8080/"
        },
        "id": "Qpy-mOeXrp_K",
        "outputId": "ed744774-5773-41e7-ed4e-f96d96213197"
      },
      "source": [
        "temp =[]\n",
        "# lấy tổng điểm các problem của mỗi user \n",
        "for i in table['user_id']:\n",
        "  temp.append(sum_score.get(i).sum())\n",
        "\n",
        "print(temp)"
      ],
      "execution_count": 301,
      "outputs": [
        {
          "output_type": "stream",
          "text": [
            "[10000, 400000, 30000, 850000, 9209, 145601, 68000, 458666, 120000, 760299, 39000, 762760, 30000, 822888, 1437000, 979712, 1883388, 646888, 1798000, 962803, 601388, 666000, 225285, 984602, 380000, 973888, 1159627, 827888, 859888, 70000, 229285, 592000, 262888, 1649587, 0, 940077, 678388, 280000, 385533, 1834978, 1035978, 928888, 1021745, 647065, 877939, 2052333, 896363, 516000, 20000, 880000, 778288, 1275144, 1830318, 944173, 818888, 921964, 516370, 1006888, 707694, 950016, 400000, 47000, 920745, 1536232, 1064586, 878888, 487318, 919288, 245000, 1779388, 918888, 928047, 534000, 196333, 887000, 1782358, 968888, 945910, 410000, 858888, 50714, 1573448, 227000, 894820, 1038263, 470000, 576888, 786615, 984285, 241888, 790000, 1423000, 163602, 878839, 1289470, 640000, 296444, 1588888, 860000, 466500, 1451500, 978888, 879000, 978888, 878888, 878375, 1480837, 655888, 1853888, 685000, 868888, 956362, 230000, 978888, 776000, 878888, 210600, 1501714, 1141548, 978054, 139000, 1174491, 739777, 880888, 60000, 774000, 1879931, 185144, 978888, 490000, 1465000, 1028558, 947535, 37000, 1792388, 300000, 907888, 858888, 878888, 978888, 572555, 868888, 1287202, 160000, 977459, 721470, 749888, 1547266, 742160, 738888, 534221, 858888, 1269149, 82179, 580000, 900766, 1598785, 974549, 848888, 1387888, 1777888, 509227, 1715309, 1873888, 1950888, 86000, 1779554, 767428, 648776, 878888, 934888, 913918, 668333, 1530916, 1745094, 2000666, 681166, 809888, 545459, 962888, 562615, 719000, 724804, 1129888, 586811, 888888, 660000, 1982256, 1556281, 1566743, 978888, 60777, 20000, 1525200, 759316, 765639, 18118, 0, 1049240, 478000, 818888, 788888, 10000, 686166, 997888, 919288, 804589, 888888, 901666, 870000, 870000, 773071, 1399623, 179000, 880000, 100714, 758888, 939554, 920053, 169000, 888888, 921888, 920000, 858888, 981743, 968888, 1213900, 809410, 397978, 822888, 918682, 40000, 16000, 860000, 861333, 917554, 670000, 894602, 193459, 276000, 1767721, 1628500, 960000, 568461, 1713888, 662650, 210459, 20000, 1442400, 665093, 1006459, 97000, 107618, 605666, 1935440, 816965, 796570, 929000, 420000, 1701388, 893719, 460000, 1743609, 450666, 839000, 0, 895758, 410888, 972888, 1002888, 740000, 1450523, 878888, 916128, 688888, 1428166, 445909, 1739998, 342000, 805814, 1855256, 858888, 994878, 738888, 1462952, 1275488, 968888, 922034, 1356785, 868349, 897349, 850000, 1502827, 874888, 891220, 1481232, 1010978, 978888, 788349, 878888, 834181, 618888, 783777, 868888, 180500, 1558600, 1033596, 914888, 684140, 1787316, 947069, 855665, 990316, 922400, 1433102, 539888, 294000, 1866388, 938982, 120000, 1833388, 868888, 868888, 967056, 948888, 1041978, 362422, 878888, 878888, 795888, 221833, 684888, 1208947, 710000, 1271998, 621861, 366771, 140000, 860978, 1806445, 1843888, 119490, 329515, 497675, 1098666, 684000, 1462895, 973173, 302000, 757000, 530000, 1820888, 978888, 970973, 1220000, 526428, 500000, 938888, 8947, 158227, 968173, 30000, 1848127, 543000, 797272, 95333, 879797, 873388, 480000, 460000, 978888, 1528866, 405000, 378000, 439833, 859000, 2069029, 868888, 1317214, 765285, 1550944, 1555666, 338444, 878888, 1282387, 1626362, 1560156, 1539220, 440000, 755090, 1043869, 737521, 720000, 980316, 865000, 0, 620000, 460000, 1598169, 722888, 872222, 1140000, 750781, 788888, 1688475, 110000, 972744, 136238, 1775753, 739090, 984888, 603198, 1655053, 819360, 680000, 1803316, 868888, 656000, 493510, 855443, 658285, 549000, 655165, 1468199, 370944, 868871, 1048888, 224173, 770000, 90000, 1066431, 1656421, 255000, 587000, 858888, 1597220, 978888, 903776, 846810, 988888, 978888, 91833, 1876388, 417960, 680000, 1010841, 700888, 509000, 790000, 456909, 1013888, 831888, 984173, 1082280, 764639, 630000, 746285, 990263, 1762536, 691221, 977888, 1002221, 529218, 708888, 1044888, 629000, 599221, 390712, 859776, 591000, 964888, 903888, 460000, 300000, 600000, 858888, 1030990, 360675, 656888, 898888, 838888, 1056888, 151000, 834887, 90000, 1038888, 858888, 833166, 946888, 811189, 795999, 807307, 641111, 688888, 937054, 868888, 1763888, 1873888, 460000, 1614666, 1688310, 1062221, 825000, 497888, 310090, 390000, 809888, 780000, 473776, 917000, 787888, 716188, 890316, 742000, 844888, 774666, 1525264, 738888, 157500, 1091402, 470943, 738909, 1182809, 1745888, 700262, 752832, 1626665, 470000, 1065285, 420506, 1889888, 719166, 978888, 619500, 920000, 659951, 1633566, 762181, 1147241, 1754221, 640000, 1105990, 743388, 1283231, 467000, 818888, 849221, 977311, 0, 1363698, 808888, 709888, 681173, 603888, 387500, 330000, 831000, 803433, 817888, 74250, 1028888, 600776, 958888, 832428, 866422, 126888, 797713, 883202, 314888, 860000, 400888, 1829388, 829090, 918888, 500000, 958888, 938388, 969716, 798000, 978888, 839888, 750888, 1211310, 1025888, 627554, 460000, 1050431, 460000, 1651234, 750000, 846688, 998342, 842888, 863888, 6000, 547045, 170000, 936160, 646057, 978888, 688505, 951411, 916888, 968888, 826937, 1139000, 978888, 190000, 928888, 1063263, 0, 1628860, 1615554, 967888, 938888, 761719, 496982, 760776, 1172166, 868888, 1093221, 853618, 387833, 810000, 978888, 751000, 1863888, 744442, 1054068, 450000, 878888, 1016054, 1873888, 1006721, 1863888, 175979, 978888, 530000, 916312, 865888, 905554, 675000, 1404888, 585888, 1532676, 968888, 1216666, 908173, 748212, 907888, 550090, 343473, 460000, 43888, 0, 471888, 54000, 785173, 898888, 978888, 97584, 365888, 633015, 140000, 566000, 1210542, 1042644, 878888, 334590, 140000, 878888, 1428697, 397071, 786888, 405500, 159000, 945786, 846718, 868888, 878888, 845648, 658444, 708000, 521090, 1654500, 1048433, 747000, 862888, 629000, 1069000, 103545, 409214, 673221, 410000, 841888, 904048, 1307000, 230000, 430000, 978888, 873899, 944000, 1491333, 1219720, 559000, 1082666, 765089, 780000, 915888, 1701388, 844272, 1300000, 1003878, 670000, 71250, 887717, 395093, 1687316, 845444, 1279879, 90000, 1697500, 678000, 299777, 1202553, 55000, 1077888, 1947776, 450000, 839888, 726888, 1670816, 10000, 79000, 1534444, 705781, 878888, 310000, 805888, 846221, 470000, 1275818, 1000978, 858000, 1437500, 878888, 1468920, 118666, 785189, 878888, 764094, 398276, 225000, 738888, 350000, 1835388, 1756388, 1733888, 277888, 977888, 694918, 894888, 1427000, 178427, 988406, 460000, 803000, 826554, 912328, 70000, 39000, 920666, 1826388, 1756388, 1861429, 1508888, 878888, 116000, 474166, 1184888, 1353164, 884371, 988888, 1738138, 402895, 1093250, 704316, 1605387, 1833888, 1691054, 694888, 878888, 497484, 1917459, 450000, 741677, 470888, 682586, 1064341, 940910, 10000, 758888, 995888, 847952, 490000, 1408719, 604871, 1653524, 857888, 945888, 1884388, 20000, 1775221, 354666, 709000, 860000, 1570957, 490000, 1044400, 903888, 778000, 230000, 1152857, 490000, 80000, 1097489, 1090323, 1822388, 1020000, 1542543, 1635000, 755000, 948888, 878888, 389632, 850000, 539534, 1813888, 518871, 836219, 1148947, 1048888, 517333, 568500, 860000, 799523, 1100328, 30000, 598372, 714888, 81000, 659888, 824256, 1627885, 957069, 462000, 826978, 1786388, 55165, 918000, 860000, 450000, 727202, 593000, 945375, 1972638, 1823888, 891888, 240714, 330000, 970000, 1028000, 1755012, 1614388, 380000, 1776388, 916000, 578443, 729888, 575000, 493777, 1848888, 292272, 1982888, 38461, 942673, 948665, 449610, 870833, 70000, 633000, 850000, 70000, 105636, 1435440, 590634, 1865978, 978888, 802850, 1711355, 948180, 985190, 1200750, 656818, 331997, 848000, 173777, 1798888, 776750, 544000, 414888, 1658191, 106000, 1041221, 1703721, 0, 593051, 152000, 1054923, 939166, 742333, 150000, 190000, 450000, 10000, 201000, 650333, 1039947, 1649388, 387423, 500000, 1188457, 1825637, 1816292, 460000, 1667721, 500000, 439000, 75000, 1780929, 837000, 1374064, 1740297, 400666, 831000, 500000, 1687500, 859000, 908000, 1863888, 730000, 1030000, 891192, 844316, 518000, 678000, 860666, 1856388, 657239, 1752388, 738461, 1735888, 460000, 607888, 154607, 926737, 748400, 1676388, 460000, 1080200, 938888, 874888, 395000, 1066000, 1850891, 138000, 1336266, 1806388, 650000, 984714, 1730554, 1687500, 1238101, 1011888, 1153216, 713666, 469250, 1753888, 460000, 1793888, 1119999, 330000, 1824530, 172442, 630446, 10000, 480000, 879285, 890000, 490000, 2008763, 1743244, 453666, 474000, 1770888, 870000, 388224, 808616, 460000, 1070333, 642665, 1457000, 479555, 460000, 748888, 455666, 1708083, 813656, 1068131, 154333, 788888, 826520, 700000, 789000, 1329571, 936888, 1116657, 790000, 862333, 489000, 1585286, 460000, 1906388, 977888, 541093, 1085241, 0, 885424, 328799, 806633, 1866593, 369068, 367647, 474250, 509254, 656963, 156947, 590769, 437165, 646686, 225233, 870000, 20000, 40000, 308103, 88333, 254388, 675276, 0, 0, 683221, 376888, 231316, 668030, 1158200, 819888, 186333, 584666, 18888, 260000, 95666, 597271, 9000, 360000, 350000, 310000, 332000, 350000, 366250, 360000, 359444, 360000, 320000, 360000, 360000, 360000, 350000, 360000, 191332, 330000, 360000, 330000, 290000, 344000, 370000, 240000, 310000, 360000, 359000, 360000, 360000, 360000, 360000, 360000, 280000, 180000, 340000, 360000, 280000, 117285, 118571, 118571, 0, 120071, 240000, 0, 0, 149444, 330000, 260000, 370000, 360000, 360000, 360000, 360000, 260000, 360000, 360000, 260000, 360000, 290000, 360000, 360000, 160000, 360000, 360000, 350000, 220000, 333888, 280000, 200000, 360000, 280000, 288000, 360000, 7000, 350000, 320000, 350000, 10000, 600000, 270790, 337000, 39000, 300221, 40000, 439741, 116428, 200000]\n"
          ],
          "name": "stdout"
        }
      ]
    },
    {
      "cell_type": "markdown",
      "metadata": {
        "id": "Cpmi2XdMubM3"
      },
      "source": [
        "-> Khó nhìn nên chuyển về dataframe"
      ]
    },
    {
      "cell_type": "code",
      "metadata": {
        "colab": {
          "base_uri": "https://localhost:8080/",
          "height": 402
        },
        "id": "84dVmJjfuaJJ",
        "outputId": "a7044641-17e2-441e-fac2-865232125008"
      },
      "source": [
        "temp = pd.Series(temp)\n",
        "# get user id\n",
        "user = pd.Series(table['user_id'])\n",
        "\n",
        "col = {'user':user, 'sum_score': temp}\n",
        "sum_score = pd.DataFrame(col)\n",
        "sum_score"
      ],
      "execution_count": 302,
      "outputs": [
        {
          "output_type": "execute_result",
          "data": {
            "text/html": [
              "<div>\n",
              "<style scoped>\n",
              "    .dataframe tbody tr th:only-of-type {\n",
              "        vertical-align: middle;\n",
              "    }\n",
              "\n",
              "    .dataframe tbody tr th {\n",
              "        vertical-align: top;\n",
              "    }\n",
              "\n",
              "    .dataframe thead th {\n",
              "        text-align: right;\n",
              "    }\n",
              "</style>\n",
              "<table border=\"1\" class=\"dataframe\">\n",
              "  <thead>\n",
              "    <tr style=\"text-align: right;\">\n",
              "      <th></th>\n",
              "      <th>user</th>\n",
              "      <th>sum_score</th>\n",
              "    </tr>\n",
              "  </thead>\n",
              "  <tbody>\n",
              "    <tr>\n",
              "      <th>0</th>\n",
              "      <td>1</td>\n",
              "      <td>10000</td>\n",
              "    </tr>\n",
              "    <tr>\n",
              "      <th>1</th>\n",
              "      <td>4</td>\n",
              "      <td>400000</td>\n",
              "    </tr>\n",
              "    <tr>\n",
              "      <th>2</th>\n",
              "      <td>5</td>\n",
              "      <td>30000</td>\n",
              "    </tr>\n",
              "    <tr>\n",
              "      <th>3</th>\n",
              "      <td>6</td>\n",
              "      <td>850000</td>\n",
              "    </tr>\n",
              "    <tr>\n",
              "      <th>4</th>\n",
              "      <td>7</td>\n",
              "      <td>9209</td>\n",
              "    </tr>\n",
              "    <tr>\n",
              "      <th>...</th>\n",
              "      <td>...</td>\n",
              "      <td>...</td>\n",
              "    </tr>\n",
              "    <tr>\n",
              "      <th>1154</th>\n",
              "      <td>1860</td>\n",
              "      <td>300221</td>\n",
              "    </tr>\n",
              "    <tr>\n",
              "      <th>1155</th>\n",
              "      <td>1862</td>\n",
              "      <td>40000</td>\n",
              "    </tr>\n",
              "    <tr>\n",
              "      <th>1156</th>\n",
              "      <td>1864</td>\n",
              "      <td>439741</td>\n",
              "    </tr>\n",
              "    <tr>\n",
              "      <th>1157</th>\n",
              "      <td>1865</td>\n",
              "      <td>116428</td>\n",
              "    </tr>\n",
              "    <tr>\n",
              "      <th>1158</th>\n",
              "      <td>1868</td>\n",
              "      <td>200000</td>\n",
              "    </tr>\n",
              "  </tbody>\n",
              "</table>\n",
              "<p>1159 rows × 2 columns</p>\n",
              "</div>"
            ],
            "text/plain": [
              "      user  sum_score\n",
              "0        1      10000\n",
              "1        4     400000\n",
              "2        5      30000\n",
              "3        6     850000\n",
              "4        7       9209\n",
              "...    ...        ...\n",
              "1154  1860     300221\n",
              "1155  1862      40000\n",
              "1156  1864     439741\n",
              "1157  1865     116428\n",
              "1158  1868     200000\n",
              "\n",
              "[1159 rows x 2 columns]"
            ]
          },
          "metadata": {
            "tags": []
          },
          "execution_count": 302
        }
      ]
    },
    {
      "cell_type": "code",
      "metadata": {
        "colab": {
          "base_uri": "https://localhost:8080/",
          "height": 402
        },
        "id": "OH4GgbwbxZlF",
        "outputId": "4176c3cb-43ae-4088-ba52-1d963418abe6"
      },
      "source": [
        "sum_score_submit = pd.concat([table, sum_score['sum_score']], axis= 1)\n",
        "sum_score_submit"
      ],
      "execution_count": 303,
      "outputs": [
        {
          "output_type": "execute_result",
          "data": {
            "text/html": [
              "<div>\n",
              "<style scoped>\n",
              "    .dataframe tbody tr th:only-of-type {\n",
              "        vertical-align: middle;\n",
              "    }\n",
              "\n",
              "    .dataframe tbody tr th {\n",
              "        vertical-align: top;\n",
              "    }\n",
              "\n",
              "    .dataframe thead th {\n",
              "        text-align: right;\n",
              "    }\n",
              "</style>\n",
              "<table border=\"1\" class=\"dataframe\">\n",
              "  <thead>\n",
              "    <tr style=\"text-align: right;\">\n",
              "      <th></th>\n",
              "      <th>user_id</th>\n",
              "      <th>time_submit</th>\n",
              "      <th>sum_score</th>\n",
              "    </tr>\n",
              "  </thead>\n",
              "  <tbody>\n",
              "    <tr>\n",
              "      <th>0</th>\n",
              "      <td>1</td>\n",
              "      <td>2</td>\n",
              "      <td>10000</td>\n",
              "    </tr>\n",
              "    <tr>\n",
              "      <th>1</th>\n",
              "      <td>4</td>\n",
              "      <td>54</td>\n",
              "      <td>400000</td>\n",
              "    </tr>\n",
              "    <tr>\n",
              "      <th>2</th>\n",
              "      <td>5</td>\n",
              "      <td>6</td>\n",
              "      <td>30000</td>\n",
              "    </tr>\n",
              "    <tr>\n",
              "      <th>3</th>\n",
              "      <td>6</td>\n",
              "      <td>130</td>\n",
              "      <td>850000</td>\n",
              "    </tr>\n",
              "    <tr>\n",
              "      <th>4</th>\n",
              "      <td>7</td>\n",
              "      <td>5</td>\n",
              "      <td>9209</td>\n",
              "    </tr>\n",
              "    <tr>\n",
              "      <th>...</th>\n",
              "      <td>...</td>\n",
              "      <td>...</td>\n",
              "      <td>...</td>\n",
              "    </tr>\n",
              "    <tr>\n",
              "      <th>1154</th>\n",
              "      <td>1860</td>\n",
              "      <td>76</td>\n",
              "      <td>300221</td>\n",
              "    </tr>\n",
              "    <tr>\n",
              "      <th>1155</th>\n",
              "      <td>1862</td>\n",
              "      <td>12</td>\n",
              "      <td>40000</td>\n",
              "    </tr>\n",
              "    <tr>\n",
              "      <th>1156</th>\n",
              "      <td>1864</td>\n",
              "      <td>187</td>\n",
              "      <td>439741</td>\n",
              "    </tr>\n",
              "    <tr>\n",
              "      <th>1157</th>\n",
              "      <td>1865</td>\n",
              "      <td>99</td>\n",
              "      <td>116428</td>\n",
              "    </tr>\n",
              "    <tr>\n",
              "      <th>1158</th>\n",
              "      <td>1868</td>\n",
              "      <td>47</td>\n",
              "      <td>200000</td>\n",
              "    </tr>\n",
              "  </tbody>\n",
              "</table>\n",
              "<p>1159 rows × 3 columns</p>\n",
              "</div>"
            ],
            "text/plain": [
              "      user_id  time_submit  sum_score\n",
              "0           1            2      10000\n",
              "1           4           54     400000\n",
              "2           5            6      30000\n",
              "3           6          130     850000\n",
              "4           7            5       9209\n",
              "...       ...          ...        ...\n",
              "1154     1860           76     300221\n",
              "1155     1862           12      40000\n",
              "1156     1864          187     439741\n",
              "1157     1865           99     116428\n",
              "1158     1868           47     200000\n",
              "\n",
              "[1159 rows x 3 columns]"
            ]
          },
          "metadata": {
            "tags": []
          },
          "execution_count": 303
        }
      ]
    },
    {
      "cell_type": "code",
      "metadata": {
        "id": "5hp06J0ix9jn"
      },
      "source": [
        "sum_score_submit.columns = ['id',\t'time_submit',\t'sum_score']"
      ],
      "execution_count": 304,
      "outputs": []
    },
    {
      "cell_type": "markdown",
      "metadata": {
        "id": "C5lrHIfMq0gS"
      },
      "source": [
        "# Score data"
      ]
    },
    {
      "cell_type": "code",
      "metadata": {
        "id": "gQnmEeUpkqgT"
      },
      "source": [
        "url = 'https://drive.google.com/file/d/10AHkxC-qFoa0Jr6foRWA49RajyqrAsk-/view?usp=sharing'\n",
        "path = 'https://drive.google.com/uc?export=download&id='+url.split('/')[-2]\n",
        "score_Data = pd.read_csv(path)"
      ],
      "execution_count": 305,
      "outputs": []
    },
    {
      "cell_type": "code",
      "metadata": {
        "colab": {
          "base_uri": "https://localhost:8080/",
          "height": 195
        },
        "id": "vC2uPsOjnrqU",
        "outputId": "af930199-9165-417f-e0f4-1a2a60269281"
      },
      "source": [
        "score_Data.head()"
      ],
      "execution_count": 306,
      "outputs": [
        {
          "output_type": "execute_result",
          "data": {
            "text/html": [
              "<div>\n",
              "<style scoped>\n",
              "    .dataframe tbody tr th:only-of-type {\n",
              "        vertical-align: middle;\n",
              "    }\n",
              "\n",
              "    .dataframe tbody tr th {\n",
              "        vertical-align: top;\n",
              "    }\n",
              "\n",
              "    .dataframe thead th {\n",
              "        text-align: right;\n",
              "    }\n",
              "</style>\n",
              "<table border=\"1\" class=\"dataframe\">\n",
              "  <thead>\n",
              "    <tr style=\"text-align: right;\">\n",
              "      <th></th>\n",
              "      <th>id</th>\n",
              "      <th>QT</th>\n",
              "      <th>GK</th>\n",
              "      <th>TH</th>\n",
              "      <th>CK</th>\n",
              "      <th>TBM</th>\n",
              "      <th>TBTL</th>\n",
              "    </tr>\n",
              "  </thead>\n",
              "  <tbody>\n",
              "    <tr>\n",
              "      <th>0</th>\n",
              "      <td>22</td>\n",
              "      <td>10</td>\n",
              "      <td>9</td>\n",
              "      <td>8.5</td>\n",
              "      <td>8.5</td>\n",
              "      <td>8.8</td>\n",
              "      <td>8.52</td>\n",
              "    </tr>\n",
              "    <tr>\n",
              "      <th>1</th>\n",
              "      <td>24</td>\n",
              "      <td>10</td>\n",
              "      <td>8</td>\n",
              "      <td>10</td>\n",
              "      <td>9.5</td>\n",
              "      <td>9.4</td>\n",
              "      <td>8.41</td>\n",
              "    </tr>\n",
              "    <tr>\n",
              "      <th>2</th>\n",
              "      <td>27</td>\n",
              "      <td>10</td>\n",
              "      <td>10</td>\n",
              "      <td>10</td>\n",
              "      <td>10</td>\n",
              "      <td>10</td>\n",
              "      <td>8.67</td>\n",
              "    </tr>\n",
              "    <tr>\n",
              "      <th>3</th>\n",
              "      <td>28</td>\n",
              "      <td>10</td>\n",
              "      <td>9.5</td>\n",
              "      <td>7.5</td>\n",
              "      <td>9.5</td>\n",
              "      <td>9.2</td>\n",
              "      <td>7.39</td>\n",
              "    </tr>\n",
              "    <tr>\n",
              "      <th>4</th>\n",
              "      <td>29</td>\n",
              "      <td>10</td>\n",
              "      <td>9.5</td>\n",
              "      <td>5</td>\n",
              "      <td>8.5</td>\n",
              "      <td>8.2</td>\n",
              "      <td>8.05</td>\n",
              "    </tr>\n",
              "  </tbody>\n",
              "</table>\n",
              "</div>"
            ],
            "text/plain": [
              "   id  QT   GK   TH   CK  TBM  TBTL\n",
              "0  22  10    9  8.5  8.5  8.8  8.52\n",
              "1  24  10    8   10  9.5  9.4  8.41\n",
              "2  27  10   10   10   10   10  8.67\n",
              "3  28  10  9.5  7.5  9.5  9.2  7.39\n",
              "4  29  10  9.5    5  8.5  8.2  8.05"
            ]
          },
          "metadata": {
            "tags": []
          },
          "execution_count": 306
        }
      ]
    },
    {
      "cell_type": "markdown",
      "metadata": {
        "id": "igMdSASWV3ap"
      },
      "source": [
        "Lấy 2 cột id và final score"
      ]
    },
    {
      "cell_type": "code",
      "metadata": {
        "colab": {
          "base_uri": "https://localhost:8080/",
          "height": 402
        },
        "id": "F98SMXLsPttQ",
        "outputId": "f8f2eb8b-f29c-4073-98e1-4d56dc93b50a"
      },
      "source": [
        "final = score_Data[['id','CK']]\n",
        "final"
      ],
      "execution_count": 307,
      "outputs": [
        {
          "output_type": "execute_result",
          "data": {
            "text/html": [
              "<div>\n",
              "<style scoped>\n",
              "    .dataframe tbody tr th:only-of-type {\n",
              "        vertical-align: middle;\n",
              "    }\n",
              "\n",
              "    .dataframe tbody tr th {\n",
              "        vertical-align: top;\n",
              "    }\n",
              "\n",
              "    .dataframe thead th {\n",
              "        text-align: right;\n",
              "    }\n",
              "</style>\n",
              "<table border=\"1\" class=\"dataframe\">\n",
              "  <thead>\n",
              "    <tr style=\"text-align: right;\">\n",
              "      <th></th>\n",
              "      <th>id</th>\n",
              "      <th>CK</th>\n",
              "    </tr>\n",
              "  </thead>\n",
              "  <tbody>\n",
              "    <tr>\n",
              "      <th>0</th>\n",
              "      <td>22</td>\n",
              "      <td>8.5</td>\n",
              "    </tr>\n",
              "    <tr>\n",
              "      <th>1</th>\n",
              "      <td>24</td>\n",
              "      <td>9.5</td>\n",
              "    </tr>\n",
              "    <tr>\n",
              "      <th>2</th>\n",
              "      <td>27</td>\n",
              "      <td>10</td>\n",
              "    </tr>\n",
              "    <tr>\n",
              "      <th>3</th>\n",
              "      <td>28</td>\n",
              "      <td>9.5</td>\n",
              "    </tr>\n",
              "    <tr>\n",
              "      <th>4</th>\n",
              "      <td>29</td>\n",
              "      <td>8.5</td>\n",
              "    </tr>\n",
              "    <tr>\n",
              "      <th>...</th>\n",
              "      <td>...</td>\n",
              "      <td>...</td>\n",
              "    </tr>\n",
              "    <tr>\n",
              "      <th>970</th>\n",
              "      <td>1857</td>\n",
              "      <td>4</td>\n",
              "    </tr>\n",
              "    <tr>\n",
              "      <th>971</th>\n",
              "      <td>1859</td>\n",
              "      <td>1.5</td>\n",
              "    </tr>\n",
              "    <tr>\n",
              "      <th>972</th>\n",
              "      <td>1862</td>\n",
              "      <td>7.5</td>\n",
              "    </tr>\n",
              "    <tr>\n",
              "      <th>973</th>\n",
              "      <td>1865</td>\n",
              "      <td>7.5</td>\n",
              "    </tr>\n",
              "    <tr>\n",
              "      <th>974</th>\n",
              "      <td>1866</td>\n",
              "      <td>5</td>\n",
              "    </tr>\n",
              "  </tbody>\n",
              "</table>\n",
              "<p>975 rows × 2 columns</p>\n",
              "</div>"
            ],
            "text/plain": [
              "       id   CK\n",
              "0      22  8.5\n",
              "1      24  9.5\n",
              "2      27   10\n",
              "3      28  9.5\n",
              "4      29  8.5\n",
              "..    ...  ...\n",
              "970  1857    4\n",
              "971  1859  1.5\n",
              "972  1862  7.5\n",
              "973  1865  7.5\n",
              "974  1866    5\n",
              "\n",
              "[975 rows x 2 columns]"
            ]
          },
          "metadata": {
            "tags": []
          },
          "execution_count": 307
        }
      ]
    },
    {
      "cell_type": "markdown",
      "metadata": {
        "id": "JKSwyJ_pi7O7"
      },
      "source": [
        "Ghép 2 bảng *sum_score_submit* và *final* lại"
      ]
    },
    {
      "cell_type": "code",
      "metadata": {
        "id": "LxrEzE3zu8me"
      },
      "source": [
        "new_data = pd.DataFrame(sum_score_submit['id'])\n",
        "new_data.columns=['id']"
      ],
      "execution_count": 308,
      "outputs": []
    },
    {
      "cell_type": "code",
      "metadata": {
        "colab": {
          "base_uri": "https://localhost:8080/",
          "height": 402
        },
        "id": "rg7X65XiyNXc",
        "outputId": "f6421354-f58d-4d90-d875-2f2c8a7f9873"
      },
      "source": [
        "new_data"
      ],
      "execution_count": 309,
      "outputs": [
        {
          "output_type": "execute_result",
          "data": {
            "text/html": [
              "<div>\n",
              "<style scoped>\n",
              "    .dataframe tbody tr th:only-of-type {\n",
              "        vertical-align: middle;\n",
              "    }\n",
              "\n",
              "    .dataframe tbody tr th {\n",
              "        vertical-align: top;\n",
              "    }\n",
              "\n",
              "    .dataframe thead th {\n",
              "        text-align: right;\n",
              "    }\n",
              "</style>\n",
              "<table border=\"1\" class=\"dataframe\">\n",
              "  <thead>\n",
              "    <tr style=\"text-align: right;\">\n",
              "      <th></th>\n",
              "      <th>id</th>\n",
              "    </tr>\n",
              "  </thead>\n",
              "  <tbody>\n",
              "    <tr>\n",
              "      <th>0</th>\n",
              "      <td>1</td>\n",
              "    </tr>\n",
              "    <tr>\n",
              "      <th>1</th>\n",
              "      <td>4</td>\n",
              "    </tr>\n",
              "    <tr>\n",
              "      <th>2</th>\n",
              "      <td>5</td>\n",
              "    </tr>\n",
              "    <tr>\n",
              "      <th>3</th>\n",
              "      <td>6</td>\n",
              "    </tr>\n",
              "    <tr>\n",
              "      <th>4</th>\n",
              "      <td>7</td>\n",
              "    </tr>\n",
              "    <tr>\n",
              "      <th>...</th>\n",
              "      <td>...</td>\n",
              "    </tr>\n",
              "    <tr>\n",
              "      <th>1154</th>\n",
              "      <td>1860</td>\n",
              "    </tr>\n",
              "    <tr>\n",
              "      <th>1155</th>\n",
              "      <td>1862</td>\n",
              "    </tr>\n",
              "    <tr>\n",
              "      <th>1156</th>\n",
              "      <td>1864</td>\n",
              "    </tr>\n",
              "    <tr>\n",
              "      <th>1157</th>\n",
              "      <td>1865</td>\n",
              "    </tr>\n",
              "    <tr>\n",
              "      <th>1158</th>\n",
              "      <td>1868</td>\n",
              "    </tr>\n",
              "  </tbody>\n",
              "</table>\n",
              "<p>1159 rows × 1 columns</p>\n",
              "</div>"
            ],
            "text/plain": [
              "        id\n",
              "0        1\n",
              "1        4\n",
              "2        5\n",
              "3        6\n",
              "4        7\n",
              "...    ...\n",
              "1154  1860\n",
              "1155  1862\n",
              "1156  1864\n",
              "1157  1865\n",
              "1158  1868\n",
              "\n",
              "[1159 rows x 1 columns]"
            ]
          },
          "metadata": {
            "tags": []
          },
          "execution_count": 309
        }
      ]
    },
    {
      "cell_type": "code",
      "metadata": {
        "id": "CEPs3ZVeu9Ff"
      },
      "source": [
        "new_data['Time_Submit'] = sum_score_submit['time_submit']"
      ],
      "execution_count": 310,
      "outputs": []
    },
    {
      "cell_type": "code",
      "metadata": {
        "colab": {
          "base_uri": "https://localhost:8080/",
          "height": 402
        },
        "id": "bRTIE1OCesMj",
        "outputId": "b52fb14d-7db6-4a8f-a0f7-6b073a0e13c2"
      },
      "source": [
        "new_data"
      ],
      "execution_count": 311,
      "outputs": [
        {
          "output_type": "execute_result",
          "data": {
            "text/html": [
              "<div>\n",
              "<style scoped>\n",
              "    .dataframe tbody tr th:only-of-type {\n",
              "        vertical-align: middle;\n",
              "    }\n",
              "\n",
              "    .dataframe tbody tr th {\n",
              "        vertical-align: top;\n",
              "    }\n",
              "\n",
              "    .dataframe thead th {\n",
              "        text-align: right;\n",
              "    }\n",
              "</style>\n",
              "<table border=\"1\" class=\"dataframe\">\n",
              "  <thead>\n",
              "    <tr style=\"text-align: right;\">\n",
              "      <th></th>\n",
              "      <th>id</th>\n",
              "      <th>Time_Submit</th>\n",
              "    </tr>\n",
              "  </thead>\n",
              "  <tbody>\n",
              "    <tr>\n",
              "      <th>0</th>\n",
              "      <td>1</td>\n",
              "      <td>2</td>\n",
              "    </tr>\n",
              "    <tr>\n",
              "      <th>1</th>\n",
              "      <td>4</td>\n",
              "      <td>54</td>\n",
              "    </tr>\n",
              "    <tr>\n",
              "      <th>2</th>\n",
              "      <td>5</td>\n",
              "      <td>6</td>\n",
              "    </tr>\n",
              "    <tr>\n",
              "      <th>3</th>\n",
              "      <td>6</td>\n",
              "      <td>130</td>\n",
              "    </tr>\n",
              "    <tr>\n",
              "      <th>4</th>\n",
              "      <td>7</td>\n",
              "      <td>5</td>\n",
              "    </tr>\n",
              "    <tr>\n",
              "      <th>...</th>\n",
              "      <td>...</td>\n",
              "      <td>...</td>\n",
              "    </tr>\n",
              "    <tr>\n",
              "      <th>1154</th>\n",
              "      <td>1860</td>\n",
              "      <td>76</td>\n",
              "    </tr>\n",
              "    <tr>\n",
              "      <th>1155</th>\n",
              "      <td>1862</td>\n",
              "      <td>12</td>\n",
              "    </tr>\n",
              "    <tr>\n",
              "      <th>1156</th>\n",
              "      <td>1864</td>\n",
              "      <td>187</td>\n",
              "    </tr>\n",
              "    <tr>\n",
              "      <th>1157</th>\n",
              "      <td>1865</td>\n",
              "      <td>99</td>\n",
              "    </tr>\n",
              "    <tr>\n",
              "      <th>1158</th>\n",
              "      <td>1868</td>\n",
              "      <td>47</td>\n",
              "    </tr>\n",
              "  </tbody>\n",
              "</table>\n",
              "<p>1159 rows × 2 columns</p>\n",
              "</div>"
            ],
            "text/plain": [
              "        id  Time_Submit\n",
              "0        1            2\n",
              "1        4           54\n",
              "2        5            6\n",
              "3        6          130\n",
              "4        7            5\n",
              "...    ...          ...\n",
              "1154  1860           76\n",
              "1155  1862           12\n",
              "1156  1864          187\n",
              "1157  1865           99\n",
              "1158  1868           47\n",
              "\n",
              "[1159 rows x 2 columns]"
            ]
          },
          "metadata": {
            "tags": []
          },
          "execution_count": 311
        }
      ]
    },
    {
      "cell_type": "code",
      "metadata": {
        "colab": {
          "base_uri": "https://localhost:8080/",
          "height": 402
        },
        "id": "Jn1vsDL5geFN",
        "outputId": "2ca8e03e-c007-412f-94c5-1fc0340275a3"
      },
      "source": [
        "new_data['All_scores'] = sum_score_submit['sum_score']\n",
        "new_data"
      ],
      "execution_count": 312,
      "outputs": [
        {
          "output_type": "execute_result",
          "data": {
            "text/html": [
              "<div>\n",
              "<style scoped>\n",
              "    .dataframe tbody tr th:only-of-type {\n",
              "        vertical-align: middle;\n",
              "    }\n",
              "\n",
              "    .dataframe tbody tr th {\n",
              "        vertical-align: top;\n",
              "    }\n",
              "\n",
              "    .dataframe thead th {\n",
              "        text-align: right;\n",
              "    }\n",
              "</style>\n",
              "<table border=\"1\" class=\"dataframe\">\n",
              "  <thead>\n",
              "    <tr style=\"text-align: right;\">\n",
              "      <th></th>\n",
              "      <th>id</th>\n",
              "      <th>Time_Submit</th>\n",
              "      <th>All_scores</th>\n",
              "    </tr>\n",
              "  </thead>\n",
              "  <tbody>\n",
              "    <tr>\n",
              "      <th>0</th>\n",
              "      <td>1</td>\n",
              "      <td>2</td>\n",
              "      <td>10000</td>\n",
              "    </tr>\n",
              "    <tr>\n",
              "      <th>1</th>\n",
              "      <td>4</td>\n",
              "      <td>54</td>\n",
              "      <td>400000</td>\n",
              "    </tr>\n",
              "    <tr>\n",
              "      <th>2</th>\n",
              "      <td>5</td>\n",
              "      <td>6</td>\n",
              "      <td>30000</td>\n",
              "    </tr>\n",
              "    <tr>\n",
              "      <th>3</th>\n",
              "      <td>6</td>\n",
              "      <td>130</td>\n",
              "      <td>850000</td>\n",
              "    </tr>\n",
              "    <tr>\n",
              "      <th>4</th>\n",
              "      <td>7</td>\n",
              "      <td>5</td>\n",
              "      <td>9209</td>\n",
              "    </tr>\n",
              "    <tr>\n",
              "      <th>...</th>\n",
              "      <td>...</td>\n",
              "      <td>...</td>\n",
              "      <td>...</td>\n",
              "    </tr>\n",
              "    <tr>\n",
              "      <th>1154</th>\n",
              "      <td>1860</td>\n",
              "      <td>76</td>\n",
              "      <td>300221</td>\n",
              "    </tr>\n",
              "    <tr>\n",
              "      <th>1155</th>\n",
              "      <td>1862</td>\n",
              "      <td>12</td>\n",
              "      <td>40000</td>\n",
              "    </tr>\n",
              "    <tr>\n",
              "      <th>1156</th>\n",
              "      <td>1864</td>\n",
              "      <td>187</td>\n",
              "      <td>439741</td>\n",
              "    </tr>\n",
              "    <tr>\n",
              "      <th>1157</th>\n",
              "      <td>1865</td>\n",
              "      <td>99</td>\n",
              "      <td>116428</td>\n",
              "    </tr>\n",
              "    <tr>\n",
              "      <th>1158</th>\n",
              "      <td>1868</td>\n",
              "      <td>47</td>\n",
              "      <td>200000</td>\n",
              "    </tr>\n",
              "  </tbody>\n",
              "</table>\n",
              "<p>1159 rows × 3 columns</p>\n",
              "</div>"
            ],
            "text/plain": [
              "        id  Time_Submit  All_scores\n",
              "0        1            2       10000\n",
              "1        4           54      400000\n",
              "2        5            6       30000\n",
              "3        6          130      850000\n",
              "4        7            5        9209\n",
              "...    ...          ...         ...\n",
              "1154  1860           76      300221\n",
              "1155  1862           12       40000\n",
              "1156  1864          187      439741\n",
              "1157  1865           99      116428\n",
              "1158  1868           47      200000\n",
              "\n",
              "[1159 rows x 3 columns]"
            ]
          },
          "metadata": {
            "tags": []
          },
          "execution_count": 312
        }
      ]
    },
    {
      "cell_type": "code",
      "metadata": {
        "colab": {
          "base_uri": "https://localhost:8080/",
          "height": 402
        },
        "id": "qwTDjQg4feWN",
        "outputId": "db6e2b8e-e933-483e-9a23-8ef1cbbfbb0f"
      },
      "source": [
        "new_data = pd.merge(new_data ,final, on='id',how='outer')\n",
        "new_data"
      ],
      "execution_count": 313,
      "outputs": [
        {
          "output_type": "execute_result",
          "data": {
            "text/html": [
              "<div>\n",
              "<style scoped>\n",
              "    .dataframe tbody tr th:only-of-type {\n",
              "        vertical-align: middle;\n",
              "    }\n",
              "\n",
              "    .dataframe tbody tr th {\n",
              "        vertical-align: top;\n",
              "    }\n",
              "\n",
              "    .dataframe thead th {\n",
              "        text-align: right;\n",
              "    }\n",
              "</style>\n",
              "<table border=\"1\" class=\"dataframe\">\n",
              "  <thead>\n",
              "    <tr style=\"text-align: right;\">\n",
              "      <th></th>\n",
              "      <th>id</th>\n",
              "      <th>Time_Submit</th>\n",
              "      <th>All_scores</th>\n",
              "      <th>CK</th>\n",
              "    </tr>\n",
              "  </thead>\n",
              "  <tbody>\n",
              "    <tr>\n",
              "      <th>0</th>\n",
              "      <td>1</td>\n",
              "      <td>2.0</td>\n",
              "      <td>10000.0</td>\n",
              "      <td>NaN</td>\n",
              "    </tr>\n",
              "    <tr>\n",
              "      <th>1</th>\n",
              "      <td>4</td>\n",
              "      <td>54.0</td>\n",
              "      <td>400000.0</td>\n",
              "      <td>NaN</td>\n",
              "    </tr>\n",
              "    <tr>\n",
              "      <th>2</th>\n",
              "      <td>5</td>\n",
              "      <td>6.0</td>\n",
              "      <td>30000.0</td>\n",
              "      <td>NaN</td>\n",
              "    </tr>\n",
              "    <tr>\n",
              "      <th>3</th>\n",
              "      <td>6</td>\n",
              "      <td>130.0</td>\n",
              "      <td>850000.0</td>\n",
              "      <td>NaN</td>\n",
              "    </tr>\n",
              "    <tr>\n",
              "      <th>4</th>\n",
              "      <td>7</td>\n",
              "      <td>5.0</td>\n",
              "      <td>9209.0</td>\n",
              "      <td>NaN</td>\n",
              "    </tr>\n",
              "    <tr>\n",
              "      <th>...</th>\n",
              "      <td>...</td>\n",
              "      <td>...</td>\n",
              "      <td>...</td>\n",
              "      <td>...</td>\n",
              "    </tr>\n",
              "    <tr>\n",
              "      <th>1276</th>\n",
              "      <td>1638</td>\n",
              "      <td>NaN</td>\n",
              "      <td>NaN</td>\n",
              "      <td>8.5</td>\n",
              "    </tr>\n",
              "    <tr>\n",
              "      <th>1277</th>\n",
              "      <td>1664</td>\n",
              "      <td>NaN</td>\n",
              "      <td>NaN</td>\n",
              "      <td>9</td>\n",
              "    </tr>\n",
              "    <tr>\n",
              "      <th>1278</th>\n",
              "      <td>1679</td>\n",
              "      <td>NaN</td>\n",
              "      <td>NaN</td>\n",
              "      <td>6</td>\n",
              "    </tr>\n",
              "    <tr>\n",
              "      <th>1279</th>\n",
              "      <td>1723</td>\n",
              "      <td>NaN</td>\n",
              "      <td>NaN</td>\n",
              "      <td>9</td>\n",
              "    </tr>\n",
              "    <tr>\n",
              "      <th>1280</th>\n",
              "      <td>1866</td>\n",
              "      <td>NaN</td>\n",
              "      <td>NaN</td>\n",
              "      <td>5</td>\n",
              "    </tr>\n",
              "  </tbody>\n",
              "</table>\n",
              "<p>1281 rows × 4 columns</p>\n",
              "</div>"
            ],
            "text/plain": [
              "        id  Time_Submit  All_scores   CK\n",
              "0        1          2.0     10000.0  NaN\n",
              "1        4         54.0    400000.0  NaN\n",
              "2        5          6.0     30000.0  NaN\n",
              "3        6        130.0    850000.0  NaN\n",
              "4        7          5.0      9209.0  NaN\n",
              "...    ...          ...         ...  ...\n",
              "1276  1638          NaN         NaN  8.5\n",
              "1277  1664          NaN         NaN    9\n",
              "1278  1679          NaN         NaN    6\n",
              "1279  1723          NaN         NaN    9\n",
              "1280  1866          NaN         NaN    5\n",
              "\n",
              "[1281 rows x 4 columns]"
            ]
          },
          "metadata": {
            "tags": []
          },
          "execution_count": 313
        }
      ]
    },
    {
      "cell_type": "code",
      "metadata": {
        "colab": {
          "base_uri": "https://localhost:8080/",
          "height": 402
        },
        "id": "j6Ty0pkjqR6M",
        "outputId": "9c16be3e-b231-4cd7-de29-9365f1f9da49"
      },
      "source": [
        "new_data.dropna()"
      ],
      "execution_count": 314,
      "outputs": [
        {
          "output_type": "execute_result",
          "data": {
            "text/html": [
              "<div>\n",
              "<style scoped>\n",
              "    .dataframe tbody tr th:only-of-type {\n",
              "        vertical-align: middle;\n",
              "    }\n",
              "\n",
              "    .dataframe tbody tr th {\n",
              "        vertical-align: top;\n",
              "    }\n",
              "\n",
              "    .dataframe thead th {\n",
              "        text-align: right;\n",
              "    }\n",
              "</style>\n",
              "<table border=\"1\" class=\"dataframe\">\n",
              "  <thead>\n",
              "    <tr style=\"text-align: right;\">\n",
              "      <th></th>\n",
              "      <th>id</th>\n",
              "      <th>Time_Submit</th>\n",
              "      <th>All_scores</th>\n",
              "      <th>CK</th>\n",
              "    </tr>\n",
              "  </thead>\n",
              "  <tbody>\n",
              "    <tr>\n",
              "      <th>9</th>\n",
              "      <td>24</td>\n",
              "      <td>164.0</td>\n",
              "      <td>760299.0</td>\n",
              "      <td>9.5</td>\n",
              "    </tr>\n",
              "    <tr>\n",
              "      <th>10</th>\n",
              "      <td>27</td>\n",
              "      <td>13.0</td>\n",
              "      <td>39000.0</td>\n",
              "      <td>10</td>\n",
              "    </tr>\n",
              "    <tr>\n",
              "      <th>11</th>\n",
              "      <td>29</td>\n",
              "      <td>199.0</td>\n",
              "      <td>762760.0</td>\n",
              "      <td>8.5</td>\n",
              "    </tr>\n",
              "    <tr>\n",
              "      <th>13</th>\n",
              "      <td>34</td>\n",
              "      <td>218.0</td>\n",
              "      <td>822888.0</td>\n",
              "      <td>6.5</td>\n",
              "    </tr>\n",
              "    <tr>\n",
              "      <th>14</th>\n",
              "      <td>35</td>\n",
              "      <td>297.0</td>\n",
              "      <td>1437000.0</td>\n",
              "      <td>4.5</td>\n",
              "    </tr>\n",
              "    <tr>\n",
              "      <th>...</th>\n",
              "      <td>...</td>\n",
              "      <td>...</td>\n",
              "      <td>...</td>\n",
              "      <td>...</td>\n",
              "    </tr>\n",
              "    <tr>\n",
              "      <th>1151</th>\n",
              "      <td>1856</td>\n",
              "      <td>64.0</td>\n",
              "      <td>270790.0</td>\n",
              "      <td>7.5</td>\n",
              "    </tr>\n",
              "    <tr>\n",
              "      <th>1152</th>\n",
              "      <td>1857</td>\n",
              "      <td>55.0</td>\n",
              "      <td>337000.0</td>\n",
              "      <td>4</td>\n",
              "    </tr>\n",
              "    <tr>\n",
              "      <th>1153</th>\n",
              "      <td>1859</td>\n",
              "      <td>31.0</td>\n",
              "      <td>39000.0</td>\n",
              "      <td>1.5</td>\n",
              "    </tr>\n",
              "    <tr>\n",
              "      <th>1155</th>\n",
              "      <td>1862</td>\n",
              "      <td>12.0</td>\n",
              "      <td>40000.0</td>\n",
              "      <td>7.5</td>\n",
              "    </tr>\n",
              "    <tr>\n",
              "      <th>1157</th>\n",
              "      <td>1865</td>\n",
              "      <td>99.0</td>\n",
              "      <td>116428.0</td>\n",
              "      <td>7.5</td>\n",
              "    </tr>\n",
              "  </tbody>\n",
              "</table>\n",
              "<p>852 rows × 4 columns</p>\n",
              "</div>"
            ],
            "text/plain": [
              "        id  Time_Submit  All_scores   CK\n",
              "9       24        164.0    760299.0  9.5\n",
              "10      27         13.0     39000.0   10\n",
              "11      29        199.0    762760.0  8.5\n",
              "13      34        218.0    822888.0  6.5\n",
              "14      35        297.0   1437000.0  4.5\n",
              "...    ...          ...         ...  ...\n",
              "1151  1856         64.0    270790.0  7.5\n",
              "1152  1857         55.0    337000.0    4\n",
              "1153  1859         31.0     39000.0  1.5\n",
              "1155  1862         12.0     40000.0  7.5\n",
              "1157  1865         99.0    116428.0  7.5\n",
              "\n",
              "[852 rows x 4 columns]"
            ]
          },
          "metadata": {
            "tags": []
          },
          "execution_count": 314
        }
      ]
    },
    {
      "cell_type": "code",
      "metadata": {
        "colab": {
          "base_uri": "https://localhost:8080/",
          "height": 334
        },
        "id": "2V4tq-edfr_f",
        "outputId": "202005d1-0145-4d8d-f03e-c6c2d1c6a1f3"
      },
      "source": [
        "# Tổng số lần submit và điểm cuối kì\n",
        "fig = plt.figure(figsize=(15,5))\n",
        "sns.scatterplot(x=new_data['CK'], y=new_data['Time_Submit'])\n",
        "plt.show()"
      ],
      "execution_count": 315,
      "outputs": [
        {
          "output_type": "display_data",
          "data": {
            "image/png": "[encoded data removed]",
            "text/plain": [
              "<Figure size 1080x360 with 1 Axes>"
            ]
          },
          "metadata": {
            "tags": []
          }
        }
      ]
    },
    {
      "cell_type": "code",
      "metadata": {
        "colab": {
          "base_uri": "https://localhost:8080/",
          "height": 538
        },
        "id": "693c3HBDqgLg",
        "outputId": "3a904531-6657-4bd5-dead-50a9294edb3c"
      },
      "source": [
        "fig = plt.figure(figsize=(20,9))\n",
        "sns.scatterplot(data=new_data,x='Time_Submit', y='All_scores')\n",
        "plt.show()"
      ],
      "execution_count": 316,
      "outputs": [
        {
          "output_type": "display_data",
          "data": {
            "image/png": "[encoded data removed]",
            "text/plain": [
              "<Figure size 1440x648 with 1 Axes>"
            ]
          },
          "metadata": {
            "tags": []
          }
        }
      ]
    },
    {
      "cell_type": "code",
      "metadata": {
        "colab": {
          "base_uri": "https://localhost:8080/",
          "height": 524
        },
        "id": "dX-uopefdlGD",
        "outputId": "d4985fb7-a407-4aef-e9cf-7b1181447830"
      },
      "source": [
        "fig = plt.figure(figsize=(21,10))\n",
        "sns.scatterplot(data=data,x='problem_id', y='status', hue='status')\n",
        "plt.show()"
      ],
      "execution_count": 317,
      "outputs": [
        {
          "output_type": "display_data",
          "data": {
            "image/png": "[encoded data removed]",
            "text/plain": [
              "<Figure size 1512x720 with 1 Axes>"
            ]
          },
          "metadata": {
            "tags": []
          }
        }
      ]
    },
    {
      "cell_type": "code",
      "metadata": {
        "colab": {
          "base_uri": "https://localhost:8080/"
        },
        "id": "4qDlfdAhevNC",
        "outputId": "1e1a3c65-6589-422a-fb08-8ab4f456898b"
      },
      "source": [
        "num_problem=pd.unique(data['problem_id'])\n",
        "n=len(num_problem)\n",
        "print(n)"
      ],
      "execution_count": 318,
      "outputs": [
        {
          "output_type": "stream",
          "text": [
            "634\n"
          ],
          "name": "stdout"
        }
      ]
    },
    {
      "cell_type": "code",
      "metadata": {
        "id": "93R09oE-kZoe"
      },
      "source": [
        "temp = pd.DataFrame(data['user_id'])\n",
        "temp['Total_Problems_Submit'] = pd.DataFrame(data['is_final'])\n",
        "temp.insert(2,'Time_Submits', 1)\n",
        "temp['Total_Correct_Submits'] = pd.DataFrame(map(int, (data['pre_score'] == 10000)))\n",
        "temp['Total_Correct_Problems'] = pd.DataFrame(map(int, (data['pre_score'] == 10000) & (data['is_final'] == 1)))\n",
        "temp.columns =['id','Total_Problems_Submit', 'Time_Submits', 'Total_Correct_Submits', 'Total_Correct_Problems']\n",
        "temp = temp.groupby(['id']).sum()"
      ],
      "execution_count": 319,
      "outputs": []
    },
    {
      "cell_type": "code",
      "metadata": {
        "colab": {
          "base_uri": "https://localhost:8080/",
          "height": 431
        },
        "id": "PjtI9XaxmcYX",
        "outputId": "3686c85a-f020-4d8c-a864-9b5d1dc37476"
      },
      "source": [
        "temp"
      ],
      "execution_count": 320,
      "outputs": [
        {
          "output_type": "execute_result",
          "data": {
            "text/html": [
              "<div>\n",
              "<style scoped>\n",
              "    .dataframe tbody tr th:only-of-type {\n",
              "        vertical-align: middle;\n",
              "    }\n",
              "\n",
              "    .dataframe tbody tr th {\n",
              "        vertical-align: top;\n",
              "    }\n",
              "\n",
              "    .dataframe thead th {\n",
              "        text-align: right;\n",
              "    }\n",
              "</style>\n",
              "<table border=\"1\" class=\"dataframe\">\n",
              "  <thead>\n",
              "    <tr style=\"text-align: right;\">\n",
              "      <th></th>\n",
              "      <th>Total_Problems_Submit</th>\n",
              "      <th>Time_Submits</th>\n",
              "      <th>Total_Correct_Submits</th>\n",
              "      <th>Total_Correct_Problems</th>\n",
              "    </tr>\n",
              "    <tr>\n",
              "      <th>id</th>\n",
              "      <th></th>\n",
              "      <th></th>\n",
              "      <th></th>\n",
              "      <th></th>\n",
              "    </tr>\n",
              "  </thead>\n",
              "  <tbody>\n",
              "    <tr>\n",
              "      <th>1</th>\n",
              "      <td>2</td>\n",
              "      <td>2</td>\n",
              "      <td>1</td>\n",
              "      <td>1</td>\n",
              "    </tr>\n",
              "    <tr>\n",
              "      <th>4</th>\n",
              "      <td>38</td>\n",
              "      <td>54</td>\n",
              "      <td>44</td>\n",
              "      <td>37</td>\n",
              "    </tr>\n",
              "    <tr>\n",
              "      <th>5</th>\n",
              "      <td>5</td>\n",
              "      <td>6</td>\n",
              "      <td>3</td>\n",
              "      <td>3</td>\n",
              "    </tr>\n",
              "    <tr>\n",
              "      <th>6</th>\n",
              "      <td>88</td>\n",
              "      <td>130</td>\n",
              "      <td>89</td>\n",
              "      <td>85</td>\n",
              "    </tr>\n",
              "    <tr>\n",
              "      <th>7</th>\n",
              "      <td>2</td>\n",
              "      <td>5</td>\n",
              "      <td>0</td>\n",
              "      <td>0</td>\n",
              "    </tr>\n",
              "    <tr>\n",
              "      <th>...</th>\n",
              "      <td>...</td>\n",
              "      <td>...</td>\n",
              "      <td>...</td>\n",
              "      <td>...</td>\n",
              "    </tr>\n",
              "    <tr>\n",
              "      <th>1860</th>\n",
              "      <td>48</td>\n",
              "      <td>76</td>\n",
              "      <td>29</td>\n",
              "      <td>28</td>\n",
              "    </tr>\n",
              "    <tr>\n",
              "      <th>1862</th>\n",
              "      <td>6</td>\n",
              "      <td>12</td>\n",
              "      <td>4</td>\n",
              "      <td>4</td>\n",
              "    </tr>\n",
              "    <tr>\n",
              "      <th>1864</th>\n",
              "      <td>63</td>\n",
              "      <td>187</td>\n",
              "      <td>30</td>\n",
              "      <td>28</td>\n",
              "    </tr>\n",
              "    <tr>\n",
              "      <th>1865</th>\n",
              "      <td>17</td>\n",
              "      <td>99</td>\n",
              "      <td>10</td>\n",
              "      <td>10</td>\n",
              "    </tr>\n",
              "    <tr>\n",
              "      <th>1868</th>\n",
              "      <td>27</td>\n",
              "      <td>47</td>\n",
              "      <td>38</td>\n",
              "      <td>27</td>\n",
              "    </tr>\n",
              "  </tbody>\n",
              "</table>\n",
              "<p>1159 rows × 4 columns</p>\n",
              "</div>"
            ],
            "text/plain": [
              "      Total_Problems_Submit  ...  Total_Correct_Problems\n",
              "id                           ...                        \n",
              "1                         2  ...                       1\n",
              "4                        38  ...                      37\n",
              "5                         5  ...                       3\n",
              "6                        88  ...                      85\n",
              "7                         2  ...                       0\n",
              "...                     ...  ...                     ...\n",
              "1860                     48  ...                      28\n",
              "1862                      6  ...                       4\n",
              "1864                     63  ...                      28\n",
              "1865                     17  ...                      10\n",
              "1868                     27  ...                      27\n",
              "\n",
              "[1159 rows x 4 columns]"
            ]
          },
          "metadata": {
            "tags": []
          },
          "execution_count": 320
        }
      ]
    },
    {
      "cell_type": "code",
      "metadata": {
        "colab": {
          "base_uri": "https://localhost:8080/",
          "height": 501
        },
        "id": "6om63dbDnCfD",
        "outputId": "8c06f9a1-5a66-4d3b-981e-d6af16ec7469"
      },
      "source": [
        "fig = plt.figure(figsize=(21,9))\n",
        "sns.scatterplot(data=temp,x='Total_Correct_Submits', y='id')\n",
        "plt.show()"
      ],
      "execution_count": 321,
      "outputs": [
        {
          "output_type": "display_data",
          "data": {
            "image/png": "[encoded data removed]",
            "text/plain": [
              "<Figure size 1512x648 with 1 Axes>"
            ]
          },
          "metadata": {
            "tags": []
          }
        }
      ]
    },
    {
      "cell_type": "code",
      "metadata": {
        "id": "tDmT-THIqiiK"
      },
      "source": [
        "temp['Correct_on_total'] = (temp['Total_Correct_Problems']/temp['Total_Problems_Submit'])"
      ],
      "execution_count": 322,
      "outputs": []
    },
    {
      "cell_type": "code",
      "metadata": {
        "id": "8nSA5C5wgc1x"
      },
      "source": [
        "# Số lần submit / tổng số problem\n",
        "temp['Submit_rate'] = (temp['Total_Problems_Submit'] / n)"
      ],
      "execution_count": 323,
      "outputs": []
    },
    {
      "cell_type": "code",
      "metadata": {
        "colab": {
          "base_uri": "https://localhost:8080/",
          "height": 431
        },
        "id": "QVJDZbolviQ9",
        "outputId": "8e936343-ef42-4c99-e6c3-ab994ec03ce7"
      },
      "source": [
        "temp"
      ],
      "execution_count": 324,
      "outputs": [
        {
          "output_type": "execute_result",
          "data": {
            "text/html": [
              "<div>\n",
              "<style scoped>\n",
              "    .dataframe tbody tr th:only-of-type {\n",
              "        vertical-align: middle;\n",
              "    }\n",
              "\n",
              "    .dataframe tbody tr th {\n",
              "        vertical-align: top;\n",
              "    }\n",
              "\n",
              "    .dataframe thead th {\n",
              "        text-align: right;\n",
              "    }\n",
              "</style>\n",
              "<table border=\"1\" class=\"dataframe\">\n",
              "  <thead>\n",
              "    <tr style=\"text-align: right;\">\n",
              "      <th></th>\n",
              "      <th>Total_Problems_Submit</th>\n",
              "      <th>Time_Submits</th>\n",
              "      <th>Total_Correct_Submits</th>\n",
              "      <th>Total_Correct_Problems</th>\n",
              "      <th>Correct_on_total</th>\n",
              "      <th>Submit_rate</th>\n",
              "    </tr>\n",
              "    <tr>\n",
              "      <th>id</th>\n",
              "      <th></th>\n",
              "      <th></th>\n",
              "      <th></th>\n",
              "      <th></th>\n",
              "      <th></th>\n",
              "      <th></th>\n",
              "    </tr>\n",
              "  </thead>\n",
              "  <tbody>\n",
              "    <tr>\n",
              "      <th>1</th>\n",
              "      <td>2</td>\n",
              "      <td>2</td>\n",
              "      <td>1</td>\n",
              "      <td>1</td>\n",
              "      <td>0.500000</td>\n",
              "      <td>0.003155</td>\n",
              "    </tr>\n",
              "    <tr>\n",
              "      <th>4</th>\n",
              "      <td>38</td>\n",
              "      <td>54</td>\n",
              "      <td>44</td>\n",
              "      <td>37</td>\n",
              "      <td>0.973684</td>\n",
              "      <td>0.059937</td>\n",
              "    </tr>\n",
              "    <tr>\n",
              "      <th>5</th>\n",
              "      <td>5</td>\n",
              "      <td>6</td>\n",
              "      <td>3</td>\n",
              "      <td>3</td>\n",
              "      <td>0.600000</td>\n",
              "      <td>0.007886</td>\n",
              "    </tr>\n",
              "    <tr>\n",
              "      <th>6</th>\n",
              "      <td>88</td>\n",
              "      <td>130</td>\n",
              "      <td>89</td>\n",
              "      <td>85</td>\n",
              "      <td>0.965909</td>\n",
              "      <td>0.138801</td>\n",
              "    </tr>\n",
              "    <tr>\n",
              "      <th>7</th>\n",
              "      <td>2</td>\n",
              "      <td>5</td>\n",
              "      <td>0</td>\n",
              "      <td>0</td>\n",
              "      <td>0.000000</td>\n",
              "      <td>0.003155</td>\n",
              "    </tr>\n",
              "    <tr>\n",
              "      <th>...</th>\n",
              "      <td>...</td>\n",
              "      <td>...</td>\n",
              "      <td>...</td>\n",
              "      <td>...</td>\n",
              "      <td>...</td>\n",
              "      <td>...</td>\n",
              "    </tr>\n",
              "    <tr>\n",
              "      <th>1860</th>\n",
              "      <td>48</td>\n",
              "      <td>76</td>\n",
              "      <td>29</td>\n",
              "      <td>28</td>\n",
              "      <td>0.583333</td>\n",
              "      <td>0.075710</td>\n",
              "    </tr>\n",
              "    <tr>\n",
              "      <th>1862</th>\n",
              "      <td>6</td>\n",
              "      <td>12</td>\n",
              "      <td>4</td>\n",
              "      <td>4</td>\n",
              "      <td>0.666667</td>\n",
              "      <td>0.009464</td>\n",
              "    </tr>\n",
              "    <tr>\n",
              "      <th>1864</th>\n",
              "      <td>63</td>\n",
              "      <td>187</td>\n",
              "      <td>30</td>\n",
              "      <td>28</td>\n",
              "      <td>0.444444</td>\n",
              "      <td>0.099369</td>\n",
              "    </tr>\n",
              "    <tr>\n",
              "      <th>1865</th>\n",
              "      <td>17</td>\n",
              "      <td>99</td>\n",
              "      <td>10</td>\n",
              "      <td>10</td>\n",
              "      <td>0.588235</td>\n",
              "      <td>0.026814</td>\n",
              "    </tr>\n",
              "    <tr>\n",
              "      <th>1868</th>\n",
              "      <td>27</td>\n",
              "      <td>47</td>\n",
              "      <td>38</td>\n",
              "      <td>27</td>\n",
              "      <td>1.000000</td>\n",
              "      <td>0.042587</td>\n",
              "    </tr>\n",
              "  </tbody>\n",
              "</table>\n",
              "<p>1159 rows × 6 columns</p>\n",
              "</div>"
            ],
            "text/plain": [
              "      Total_Problems_Submit  Time_Submits  ...  Correct_on_total  Submit_rate\n",
              "id                                         ...                               \n",
              "1                         2             2  ...          0.500000     0.003155\n",
              "4                        38            54  ...          0.973684     0.059937\n",
              "5                         5             6  ...          0.600000     0.007886\n",
              "6                        88           130  ...          0.965909     0.138801\n",
              "7                         2             5  ...          0.000000     0.003155\n",
              "...                     ...           ...  ...               ...          ...\n",
              "1860                     48            76  ...          0.583333     0.075710\n",
              "1862                      6            12  ...          0.666667     0.009464\n",
              "1864                     63           187  ...          0.444444     0.099369\n",
              "1865                     17            99  ...          0.588235     0.026814\n",
              "1868                     27            47  ...          1.000000     0.042587\n",
              "\n",
              "[1159 rows x 6 columns]"
            ]
          },
          "metadata": {
            "tags": []
          },
          "execution_count": 324
        }
      ]
    },
    {
      "cell_type": "markdown",
      "metadata": {
        "id": "2QDiy9qsmEkz"
      },
      "source": [
        "Có vẻ như cột Correct on total sẽ gây ra sai lệch do nộp rất ít nhưng tỉ lệ đúng cực kì cao => **có vấn đề**"
      ]
    },
    {
      "cell_type": "code",
      "metadata": {
        "id": "a16YGeLImEYN"
      },
      "source": [
        "# Chỉnh sửa tỉ lệ bài đúng và số bài nộp so với tổng số bài\n",
        "temp_value = temp['Submit_rate']*temp['Correct_on_total']\n",
        "temp['Correct_on_total'] = temp_value"
      ],
      "execution_count": 325,
      "outputs": []
    },
    {
      "cell_type": "code",
      "metadata": {
        "colab": {
          "base_uri": "https://localhost:8080/"
        },
        "id": "ViCrR_yrjpJW",
        "outputId": "b7baf6cb-6aa5-4aca-b786-73a7d6192e14"
      },
      "source": [
        "print(temp['Submit_rate'].max())"
      ],
      "execution_count": 326,
      "outputs": [
        {
          "output_type": "stream",
          "text": [
            "0.5031545741324921\n"
          ],
          "name": "stdout"
        }
      ]
    },
    {
      "cell_type": "code",
      "metadata": {
        "colab": {
          "base_uri": "https://localhost:8080/",
          "height": 518
        },
        "id": "9WVgehpRq3IR",
        "outputId": "2aac6eae-9a5f-4589-e6c8-ebed3f5ceee8"
      },
      "source": [
        "fig = plt.figure(figsize=(21,9))\n",
        "sns.scatterplot(data=temp, x='id', y='Total_Correct_Submits')\n",
        "plt.show"
      ],
      "execution_count": 327,
      "outputs": [
        {
          "output_type": "execute_result",
          "data": {
            "text/plain": [
              "<function matplotlib.pyplot.show>"
            ]
          },
          "metadata": {
            "tags": []
          },
          "execution_count": 327
        },
        {
          "output_type": "display_data",
          "data": {
            "image/png": "[encoded data removed]",
            "text/plain": [
              "<Figure size 1512x648 with 1 Axes>"
            ]
          },
          "metadata": {
            "tags": []
          }
        }
      ]
    },
    {
      "cell_type": "code",
      "metadata": {
        "colab": {
          "base_uri": "https://localhost:8080/",
          "height": 431
        },
        "id": "726T0VHv573E",
        "outputId": "d63b6a78-48fd-40d3-cd00-3f20f52f2232"
      },
      "source": [
        "temp"
      ],
      "execution_count": 328,
      "outputs": [
        {
          "output_type": "execute_result",
          "data": {
            "text/html": [
              "<div>\n",
              "<style scoped>\n",
              "    .dataframe tbody tr th:only-of-type {\n",
              "        vertical-align: middle;\n",
              "    }\n",
              "\n",
              "    .dataframe tbody tr th {\n",
              "        vertical-align: top;\n",
              "    }\n",
              "\n",
              "    .dataframe thead th {\n",
              "        text-align: right;\n",
              "    }\n",
              "</style>\n",
              "<table border=\"1\" class=\"dataframe\">\n",
              "  <thead>\n",
              "    <tr style=\"text-align: right;\">\n",
              "      <th></th>\n",
              "      <th>Total_Problems_Submit</th>\n",
              "      <th>Time_Submits</th>\n",
              "      <th>Total_Correct_Submits</th>\n",
              "      <th>Total_Correct_Problems</th>\n",
              "      <th>Correct_on_total</th>\n",
              "      <th>Submit_rate</th>\n",
              "    </tr>\n",
              "    <tr>\n",
              "      <th>id</th>\n",
              "      <th></th>\n",
              "      <th></th>\n",
              "      <th></th>\n",
              "      <th></th>\n",
              "      <th></th>\n",
              "      <th></th>\n",
              "    </tr>\n",
              "  </thead>\n",
              "  <tbody>\n",
              "    <tr>\n",
              "      <th>1</th>\n",
              "      <td>2</td>\n",
              "      <td>2</td>\n",
              "      <td>1</td>\n",
              "      <td>1</td>\n",
              "      <td>0.001577</td>\n",
              "      <td>0.003155</td>\n",
              "    </tr>\n",
              "    <tr>\n",
              "      <th>4</th>\n",
              "      <td>38</td>\n",
              "      <td>54</td>\n",
              "      <td>44</td>\n",
              "      <td>37</td>\n",
              "      <td>0.058360</td>\n",
              "      <td>0.059937</td>\n",
              "    </tr>\n",
              "    <tr>\n",
              "      <th>5</th>\n",
              "      <td>5</td>\n",
              "      <td>6</td>\n",
              "      <td>3</td>\n",
              "      <td>3</td>\n",
              "      <td>0.004732</td>\n",
              "      <td>0.007886</td>\n",
              "    </tr>\n",
              "    <tr>\n",
              "      <th>6</th>\n",
              "      <td>88</td>\n",
              "      <td>130</td>\n",
              "      <td>89</td>\n",
              "      <td>85</td>\n",
              "      <td>0.134069</td>\n",
              "      <td>0.138801</td>\n",
              "    </tr>\n",
              "    <tr>\n",
              "      <th>7</th>\n",
              "      <td>2</td>\n",
              "      <td>5</td>\n",
              "      <td>0</td>\n",
              "      <td>0</td>\n",
              "      <td>0.000000</td>\n",
              "      <td>0.003155</td>\n",
              "    </tr>\n",
              "    <tr>\n",
              "      <th>...</th>\n",
              "      <td>...</td>\n",
              "      <td>...</td>\n",
              "      <td>...</td>\n",
              "      <td>...</td>\n",
              "      <td>...</td>\n",
              "      <td>...</td>\n",
              "    </tr>\n",
              "    <tr>\n",
              "      <th>1860</th>\n",
              "      <td>48</td>\n",
              "      <td>76</td>\n",
              "      <td>29</td>\n",
              "      <td>28</td>\n",
              "      <td>0.044164</td>\n",
              "      <td>0.075710</td>\n",
              "    </tr>\n",
              "    <tr>\n",
              "      <th>1862</th>\n",
              "      <td>6</td>\n",
              "      <td>12</td>\n",
              "      <td>4</td>\n",
              "      <td>4</td>\n",
              "      <td>0.006309</td>\n",
              "      <td>0.009464</td>\n",
              "    </tr>\n",
              "    <tr>\n",
              "      <th>1864</th>\n",
              "      <td>63</td>\n",
              "      <td>187</td>\n",
              "      <td>30</td>\n",
              "      <td>28</td>\n",
              "      <td>0.044164</td>\n",
              "      <td>0.099369</td>\n",
              "    </tr>\n",
              "    <tr>\n",
              "      <th>1865</th>\n",
              "      <td>17</td>\n",
              "      <td>99</td>\n",
              "      <td>10</td>\n",
              "      <td>10</td>\n",
              "      <td>0.015773</td>\n",
              "      <td>0.026814</td>\n",
              "    </tr>\n",
              "    <tr>\n",
              "      <th>1868</th>\n",
              "      <td>27</td>\n",
              "      <td>47</td>\n",
              "      <td>38</td>\n",
              "      <td>27</td>\n",
              "      <td>0.042587</td>\n",
              "      <td>0.042587</td>\n",
              "    </tr>\n",
              "  </tbody>\n",
              "</table>\n",
              "<p>1159 rows × 6 columns</p>\n",
              "</div>"
            ],
            "text/plain": [
              "      Total_Problems_Submit  Time_Submits  ...  Correct_on_total  Submit_rate\n",
              "id                                         ...                               \n",
              "1                         2             2  ...          0.001577     0.003155\n",
              "4                        38            54  ...          0.058360     0.059937\n",
              "5                         5             6  ...          0.004732     0.007886\n",
              "6                        88           130  ...          0.134069     0.138801\n",
              "7                         2             5  ...          0.000000     0.003155\n",
              "...                     ...           ...  ...               ...          ...\n",
              "1860                     48            76  ...          0.044164     0.075710\n",
              "1862                      6            12  ...          0.006309     0.009464\n",
              "1864                     63           187  ...          0.044164     0.099369\n",
              "1865                     17            99  ...          0.015773     0.026814\n",
              "1868                     27            47  ...          0.042587     0.042587\n",
              "\n",
              "[1159 rows x 6 columns]"
            ]
          },
          "metadata": {
            "tags": []
          },
          "execution_count": 328
        }
      ]
    },
    {
      "cell_type": "code",
      "metadata": {
        "colab": {
          "base_uri": "https://localhost:8080/",
          "height": 568
        },
        "id": "c9h8cdkaj4Zi",
        "outputId": "f089e930-44fe-44e1-af17-033300645b4f"
      },
      "source": [
        "fig = plt.figure(figsize=(17,9))\n",
        "sns.scatterplot(data=temp, x='id', y='Correct_on_total')\n",
        "plt.show"
      ],
      "execution_count": 329,
      "outputs": [
        {
          "output_type": "execute_result",
          "data": {
            "text/plain": [
              "<function matplotlib.pyplot.show>"
            ]
          },
          "metadata": {
            "tags": []
          },
          "execution_count": 329
        },
        {
          "output_type": "display_data",
          "data": {
            "image/png": "[encoded data removed]",
            "text/plain": [
              "<Figure size 1224x648 with 1 Axes>"
            ]
          },
          "metadata": {
            "tags": []
          }
        }
      ]
    },
    {
      "cell_type": "markdown",
      "metadata": {
        "id": "M-2VoGJYp1my"
      },
      "source": [
        "Xóa các cột không quan trọng từ file score, chỉ giữ lại id và CK các feature còn lại không liên quan đến dự đoán."
      ]
    },
    {
      "cell_type": "code",
      "metadata": {
        "colab": {
          "base_uri": "https://localhost:8080/",
          "height": 402
        },
        "id": "0KtziY_mpzzX",
        "outputId": "80b09664-ee62-4344-ef70-369e0d2aeeda"
      },
      "source": [
        "final = score_Data.drop(columns=['QT','GK','TH','TBM','TBTL'])\n",
        "# Xóa các hàng có giá trị \" \"\n",
        "final = final.where(final['CK'] != '\\xa0')\n",
        "final"
      ],
      "execution_count": 330,
      "outputs": [
        {
          "output_type": "execute_result",
          "data": {
            "text/html": [
              "<div>\n",
              "<style scoped>\n",
              "    .dataframe tbody tr th:only-of-type {\n",
              "        vertical-align: middle;\n",
              "    }\n",
              "\n",
              "    .dataframe tbody tr th {\n",
              "        vertical-align: top;\n",
              "    }\n",
              "\n",
              "    .dataframe thead th {\n",
              "        text-align: right;\n",
              "    }\n",
              "</style>\n",
              "<table border=\"1\" class=\"dataframe\">\n",
              "  <thead>\n",
              "    <tr style=\"text-align: right;\">\n",
              "      <th></th>\n",
              "      <th>id</th>\n",
              "      <th>CK</th>\n",
              "    </tr>\n",
              "  </thead>\n",
              "  <tbody>\n",
              "    <tr>\n",
              "      <th>0</th>\n",
              "      <td>22.0</td>\n",
              "      <td>8.5</td>\n",
              "    </tr>\n",
              "    <tr>\n",
              "      <th>1</th>\n",
              "      <td>24.0</td>\n",
              "      <td>9.5</td>\n",
              "    </tr>\n",
              "    <tr>\n",
              "      <th>2</th>\n",
              "      <td>27.0</td>\n",
              "      <td>10</td>\n",
              "    </tr>\n",
              "    <tr>\n",
              "      <th>3</th>\n",
              "      <td>28.0</td>\n",
              "      <td>9.5</td>\n",
              "    </tr>\n",
              "    <tr>\n",
              "      <th>4</th>\n",
              "      <td>29.0</td>\n",
              "      <td>8.5</td>\n",
              "    </tr>\n",
              "    <tr>\n",
              "      <th>...</th>\n",
              "      <td>...</td>\n",
              "      <td>...</td>\n",
              "    </tr>\n",
              "    <tr>\n",
              "      <th>970</th>\n",
              "      <td>1857.0</td>\n",
              "      <td>4</td>\n",
              "    </tr>\n",
              "    <tr>\n",
              "      <th>971</th>\n",
              "      <td>1859.0</td>\n",
              "      <td>1.5</td>\n",
              "    </tr>\n",
              "    <tr>\n",
              "      <th>972</th>\n",
              "      <td>1862.0</td>\n",
              "      <td>7.5</td>\n",
              "    </tr>\n",
              "    <tr>\n",
              "      <th>973</th>\n",
              "      <td>1865.0</td>\n",
              "      <td>7.5</td>\n",
              "    </tr>\n",
              "    <tr>\n",
              "      <th>974</th>\n",
              "      <td>1866.0</td>\n",
              "      <td>5</td>\n",
              "    </tr>\n",
              "  </tbody>\n",
              "</table>\n",
              "<p>975 rows × 2 columns</p>\n",
              "</div>"
            ],
            "text/plain": [
              "         id   CK\n",
              "0      22.0  8.5\n",
              "1      24.0  9.5\n",
              "2      27.0   10\n",
              "3      28.0  9.5\n",
              "4      29.0  8.5\n",
              "..      ...  ...\n",
              "970  1857.0    4\n",
              "971  1859.0  1.5\n",
              "972  1862.0  7.5\n",
              "973  1865.0  7.5\n",
              "974  1866.0    5\n",
              "\n",
              "[975 rows x 2 columns]"
            ]
          },
          "metadata": {
            "tags": []
          },
          "execution_count": 330
        }
      ]
    },
    {
      "cell_type": "code",
      "metadata": {
        "colab": {
          "base_uri": "https://localhost:8080/"
        },
        "id": "-DJmO6jBslIZ",
        "outputId": "6d8aa089-3dd8-44e3-f652-1d7e8ef662a8"
      },
      "source": [
        "final['CK'].head(20)"
      ],
      "execution_count": 331,
      "outputs": [
        {
          "output_type": "execute_result",
          "data": {
            "text/plain": [
              "0     8.5\n",
              "1     9.5\n",
              "2      10\n",
              "3     9.5\n",
              "4     8.5\n",
              "5       9\n",
              "6     6.5\n",
              "7     4.5\n",
              "8       7\n",
              "9     7.5\n",
              "10      8\n",
              "11      8\n",
              "12    7.5\n",
              "13      6\n",
              "14      5\n",
              "15    7.5\n",
              "16      4\n",
              "17      3\n",
              "18    5.5\n",
              "19    NaN\n",
              "Name: CK, dtype: object"
            ]
          },
          "metadata": {
            "tags": []
          },
          "execution_count": 331
        }
      ]
    },
    {
      "cell_type": "code",
      "metadata": {
        "id": "XHW-VGxcqGwC"
      },
      "source": [
        "train_data = pd.merge(temp,final,how='inner', on=['id'])"
      ],
      "execution_count": 332,
      "outputs": []
    },
    {
      "cell_type": "code",
      "metadata": {
        "colab": {
          "base_uri": "https://localhost:8080/",
          "height": 402
        },
        "id": "0vQVOiVRrKsV",
        "outputId": "6b4b60ec-057f-482f-cfa2-c6a9f97eecff"
      },
      "source": [
        "train_data"
      ],
      "execution_count": 333,
      "outputs": [
        {
          "output_type": "execute_result",
          "data": {
            "text/html": [
              "<div>\n",
              "<style scoped>\n",
              "    .dataframe tbody tr th:only-of-type {\n",
              "        vertical-align: middle;\n",
              "    }\n",
              "\n",
              "    .dataframe tbody tr th {\n",
              "        vertical-align: top;\n",
              "    }\n",
              "\n",
              "    .dataframe thead th {\n",
              "        text-align: right;\n",
              "    }\n",
              "</style>\n",
              "<table border=\"1\" class=\"dataframe\">\n",
              "  <thead>\n",
              "    <tr style=\"text-align: right;\">\n",
              "      <th></th>\n",
              "      <th>id</th>\n",
              "      <th>Total_Problems_Submit</th>\n",
              "      <th>Time_Submits</th>\n",
              "      <th>Total_Correct_Submits</th>\n",
              "      <th>Total_Correct_Problems</th>\n",
              "      <th>Correct_on_total</th>\n",
              "      <th>Submit_rate</th>\n",
              "      <th>CK</th>\n",
              "    </tr>\n",
              "  </thead>\n",
              "  <tbody>\n",
              "    <tr>\n",
              "      <th>0</th>\n",
              "      <td>24</td>\n",
              "      <td>77</td>\n",
              "      <td>164</td>\n",
              "      <td>80</td>\n",
              "      <td>72</td>\n",
              "      <td>0.113565</td>\n",
              "      <td>0.121451</td>\n",
              "      <td>9.5</td>\n",
              "    </tr>\n",
              "    <tr>\n",
              "      <th>1</th>\n",
              "      <td>27</td>\n",
              "      <td>5</td>\n",
              "      <td>13</td>\n",
              "      <td>4</td>\n",
              "      <td>3</td>\n",
              "      <td>0.004732</td>\n",
              "      <td>0.007886</td>\n",
              "      <td>10</td>\n",
              "    </tr>\n",
              "    <tr>\n",
              "      <th>2</th>\n",
              "      <td>29</td>\n",
              "      <td>80</td>\n",
              "      <td>199</td>\n",
              "      <td>75</td>\n",
              "      <td>72</td>\n",
              "      <td>0.113565</td>\n",
              "      <td>0.126183</td>\n",
              "      <td>8.5</td>\n",
              "    </tr>\n",
              "    <tr>\n",
              "      <th>3</th>\n",
              "      <td>34</td>\n",
              "      <td>84</td>\n",
              "      <td>218</td>\n",
              "      <td>81</td>\n",
              "      <td>81</td>\n",
              "      <td>0.127760</td>\n",
              "      <td>0.132492</td>\n",
              "      <td>6.5</td>\n",
              "    </tr>\n",
              "    <tr>\n",
              "      <th>4</th>\n",
              "      <td>35</td>\n",
              "      <td>151</td>\n",
              "      <td>297</td>\n",
              "      <td>152</td>\n",
              "      <td>145</td>\n",
              "      <td>0.228707</td>\n",
              "      <td>0.238170</td>\n",
              "      <td>4.5</td>\n",
              "    </tr>\n",
              "    <tr>\n",
              "      <th>...</th>\n",
              "      <td>...</td>\n",
              "      <td>...</td>\n",
              "      <td>...</td>\n",
              "      <td>...</td>\n",
              "      <td>...</td>\n",
              "      <td>...</td>\n",
              "      <td>...</td>\n",
              "      <td>...</td>\n",
              "    </tr>\n",
              "    <tr>\n",
              "      <th>802</th>\n",
              "      <td>1856</td>\n",
              "      <td>31</td>\n",
              "      <td>64</td>\n",
              "      <td>23</td>\n",
              "      <td>23</td>\n",
              "      <td>0.036278</td>\n",
              "      <td>0.048896</td>\n",
              "      <td>7.5</td>\n",
              "    </tr>\n",
              "    <tr>\n",
              "      <th>803</th>\n",
              "      <td>1857</td>\n",
              "      <td>40</td>\n",
              "      <td>55</td>\n",
              "      <td>37</td>\n",
              "      <td>37</td>\n",
              "      <td>0.058360</td>\n",
              "      <td>0.063091</td>\n",
              "      <td>4</td>\n",
              "    </tr>\n",
              "    <tr>\n",
              "      <th>804</th>\n",
              "      <td>1859</td>\n",
              "      <td>30</td>\n",
              "      <td>31</td>\n",
              "      <td>3</td>\n",
              "      <td>3</td>\n",
              "      <td>0.004732</td>\n",
              "      <td>0.047319</td>\n",
              "      <td>1.5</td>\n",
              "    </tr>\n",
              "    <tr>\n",
              "      <th>805</th>\n",
              "      <td>1862</td>\n",
              "      <td>6</td>\n",
              "      <td>12</td>\n",
              "      <td>4</td>\n",
              "      <td>4</td>\n",
              "      <td>0.006309</td>\n",
              "      <td>0.009464</td>\n",
              "      <td>7.5</td>\n",
              "    </tr>\n",
              "    <tr>\n",
              "      <th>806</th>\n",
              "      <td>1865</td>\n",
              "      <td>17</td>\n",
              "      <td>99</td>\n",
              "      <td>10</td>\n",
              "      <td>10</td>\n",
              "      <td>0.015773</td>\n",
              "      <td>0.026814</td>\n",
              "      <td>7.5</td>\n",
              "    </tr>\n",
              "  </tbody>\n",
              "</table>\n",
              "<p>807 rows × 8 columns</p>\n",
              "</div>"
            ],
            "text/plain": [
              "       id  Total_Problems_Submit  ...  Submit_rate   CK\n",
              "0      24                     77  ...     0.121451  9.5\n",
              "1      27                      5  ...     0.007886   10\n",
              "2      29                     80  ...     0.126183  8.5\n",
              "3      34                     84  ...     0.132492  6.5\n",
              "4      35                    151  ...     0.238170  4.5\n",
              "..    ...                    ...  ...          ...  ...\n",
              "802  1856                     31  ...     0.048896  7.5\n",
              "803  1857                     40  ...     0.063091    4\n",
              "804  1859                     30  ...     0.047319  1.5\n",
              "805  1862                      6  ...     0.009464  7.5\n",
              "806  1865                     17  ...     0.026814  7.5\n",
              "\n",
              "[807 rows x 8 columns]"
            ]
          },
          "metadata": {
            "tags": []
          },
          "execution_count": 333
        }
      ]
    },
    {
      "cell_type": "code",
      "metadata": {
        "colab": {
          "base_uri": "https://localhost:8080/"
        },
        "id": "QVBf4ULzrPeP",
        "outputId": "e5377af3-d8c7-4f1f-93f9-54e7e4838def"
      },
      "source": [
        "train_data.isna().sum()"
      ],
      "execution_count": 334,
      "outputs": [
        {
          "output_type": "execute_result",
          "data": {
            "text/plain": [
              "id                        0\n",
              "Total_Problems_Submit     0\n",
              "Time_Submits              0\n",
              "Total_Correct_Submits     0\n",
              "Total_Correct_Problems    0\n",
              "Correct_on_total          1\n",
              "Submit_rate               0\n",
              "CK                        1\n",
              "dtype: int64"
            ]
          },
          "metadata": {
            "tags": []
          },
          "execution_count": 334
        }
      ]
    },
    {
      "cell_type": "code",
      "metadata": {
        "id": "POwBIV0JrWQ4"
      },
      "source": [
        "train_data.dropna(inplace=True)"
      ],
      "execution_count": 335,
      "outputs": []
    },
    {
      "cell_type": "code",
      "metadata": {
        "colab": {
          "base_uri": "https://localhost:8080/"
        },
        "id": "L3QQAfQ0rjPq",
        "outputId": "9c97dc92-8fc7-40ed-e9bc-6bf5caa7a710"
      },
      "source": [
        "train_data['CK']"
      ],
      "execution_count": 336,
      "outputs": [
        {
          "output_type": "execute_result",
          "data": {
            "text/plain": [
              "0      9.5\n",
              "1       10\n",
              "2      8.5\n",
              "3      6.5\n",
              "4      4.5\n",
              "      ... \n",
              "802    7.5\n",
              "803      4\n",
              "804    1.5\n",
              "805    7.5\n",
              "806    7.5\n",
              "Name: CK, Length: 805, dtype: object"
            ]
          },
          "metadata": {
            "tags": []
          },
          "execution_count": 336
        }
      ]
    },
    {
      "cell_type": "code",
      "metadata": {
        "id": "J_l2KLlGzSL6"
      },
      "source": [
        "train_data['CK']=train_data['CK'].astype(str).astype(float)"
      ],
      "execution_count": 337,
      "outputs": []
    },
    {
      "cell_type": "code",
      "metadata": {
        "colab": {
          "base_uri": "https://localhost:8080/"
        },
        "id": "Sfu3ewaQ0ikY",
        "outputId": "7af874b6-9ec5-4f2c-879e-e6fd99b8d070"
      },
      "source": [
        "train_data.isna().sum()"
      ],
      "execution_count": 338,
      "outputs": [
        {
          "output_type": "execute_result",
          "data": {
            "text/plain": [
              "id                        0\n",
              "Total_Problems_Submit     0\n",
              "Time_Submits              0\n",
              "Total_Correct_Submits     0\n",
              "Total_Correct_Problems    0\n",
              "Correct_on_total          0\n",
              "Submit_rate               0\n",
              "CK                        0\n",
              "dtype: int64"
            ]
          },
          "metadata": {
            "tags": []
          },
          "execution_count": 338
        }
      ]
    },
    {
      "cell_type": "code",
      "metadata": {
        "id": "JZF32FVYq_JB"
      },
      "source": [
        "train_data=train_data.sort_values(by=['CK'],ignore_index=True)"
      ],
      "execution_count": 339,
      "outputs": []
    },
    {
      "cell_type": "code",
      "metadata": {
        "colab": {
          "base_uri": "https://localhost:8080/",
          "height": 402
        },
        "id": "hPz8dSJg4ClF",
        "outputId": "94375a09-2d41-420a-e696-67636ac128d6"
      },
      "source": [
        "train_data"
      ],
      "execution_count": 340,
      "outputs": [
        {
          "output_type": "execute_result",
          "data": {
            "text/html": [
              "<div>\n",
              "<style scoped>\n",
              "    .dataframe tbody tr th:only-of-type {\n",
              "        vertical-align: middle;\n",
              "    }\n",
              "\n",
              "    .dataframe tbody tr th {\n",
              "        vertical-align: top;\n",
              "    }\n",
              "\n",
              "    .dataframe thead th {\n",
              "        text-align: right;\n",
              "    }\n",
              "</style>\n",
              "<table border=\"1\" class=\"dataframe\">\n",
              "  <thead>\n",
              "    <tr style=\"text-align: right;\">\n",
              "      <th></th>\n",
              "      <th>id</th>\n",
              "      <th>Total_Problems_Submit</th>\n",
              "      <th>Time_Submits</th>\n",
              "      <th>Total_Correct_Submits</th>\n",
              "      <th>Total_Correct_Problems</th>\n",
              "      <th>Correct_on_total</th>\n",
              "      <th>Submit_rate</th>\n",
              "      <th>CK</th>\n",
              "    </tr>\n",
              "  </thead>\n",
              "  <tbody>\n",
              "    <tr>\n",
              "      <th>0</th>\n",
              "      <td>1505</td>\n",
              "      <td>8</td>\n",
              "      <td>8</td>\n",
              "      <td>7</td>\n",
              "      <td>7</td>\n",
              "      <td>0.011041</td>\n",
              "      <td>0.012618</td>\n",
              "      <td>0.0</td>\n",
              "    </tr>\n",
              "    <tr>\n",
              "      <th>1</th>\n",
              "      <td>1122</td>\n",
              "      <td>1</td>\n",
              "      <td>3</td>\n",
              "      <td>0</td>\n",
              "      <td>0</td>\n",
              "      <td>0.000000</td>\n",
              "      <td>0.001577</td>\n",
              "      <td>0.0</td>\n",
              "    </tr>\n",
              "    <tr>\n",
              "      <th>2</th>\n",
              "      <td>76</td>\n",
              "      <td>29</td>\n",
              "      <td>58</td>\n",
              "      <td>28</td>\n",
              "      <td>28</td>\n",
              "      <td>0.044164</td>\n",
              "      <td>0.045741</td>\n",
              "      <td>0.0</td>\n",
              "    </tr>\n",
              "    <tr>\n",
              "      <th>3</th>\n",
              "      <td>823</td>\n",
              "      <td>48</td>\n",
              "      <td>109</td>\n",
              "      <td>46</td>\n",
              "      <td>46</td>\n",
              "      <td>0.072555</td>\n",
              "      <td>0.075710</td>\n",
              "      <td>0.0</td>\n",
              "    </tr>\n",
              "    <tr>\n",
              "      <th>4</th>\n",
              "      <td>562</td>\n",
              "      <td>31</td>\n",
              "      <td>92</td>\n",
              "      <td>30</td>\n",
              "      <td>29</td>\n",
              "      <td>0.045741</td>\n",
              "      <td>0.048896</td>\n",
              "      <td>0.0</td>\n",
              "    </tr>\n",
              "    <tr>\n",
              "      <th>...</th>\n",
              "      <td>...</td>\n",
              "      <td>...</td>\n",
              "      <td>...</td>\n",
              "      <td>...</td>\n",
              "      <td>...</td>\n",
              "      <td>...</td>\n",
              "      <td>...</td>\n",
              "      <td>...</td>\n",
              "    </tr>\n",
              "    <tr>\n",
              "      <th>800</th>\n",
              "      <td>1328</td>\n",
              "      <td>189</td>\n",
              "      <td>671</td>\n",
              "      <td>193</td>\n",
              "      <td>184</td>\n",
              "      <td>0.290221</td>\n",
              "      <td>0.298107</td>\n",
              "      <td>9.5</td>\n",
              "    </tr>\n",
              "    <tr>\n",
              "      <th>801</th>\n",
              "      <td>264</td>\n",
              "      <td>181</td>\n",
              "      <td>430</td>\n",
              "      <td>184</td>\n",
              "      <td>176</td>\n",
              "      <td>0.277603</td>\n",
              "      <td>0.285489</td>\n",
              "      <td>9.5</td>\n",
              "    </tr>\n",
              "    <tr>\n",
              "      <th>802</th>\n",
              "      <td>24</td>\n",
              "      <td>77</td>\n",
              "      <td>164</td>\n",
              "      <td>80</td>\n",
              "      <td>72</td>\n",
              "      <td>0.113565</td>\n",
              "      <td>0.121451</td>\n",
              "      <td>9.5</td>\n",
              "    </tr>\n",
              "    <tr>\n",
              "      <th>803</th>\n",
              "      <td>343</td>\n",
              "      <td>191</td>\n",
              "      <td>345</td>\n",
              "      <td>168</td>\n",
              "      <td>166</td>\n",
              "      <td>0.261830</td>\n",
              "      <td>0.301262</td>\n",
              "      <td>10.0</td>\n",
              "    </tr>\n",
              "    <tr>\n",
              "      <th>804</th>\n",
              "      <td>27</td>\n",
              "      <td>5</td>\n",
              "      <td>13</td>\n",
              "      <td>4</td>\n",
              "      <td>3</td>\n",
              "      <td>0.004732</td>\n",
              "      <td>0.007886</td>\n",
              "      <td>10.0</td>\n",
              "    </tr>\n",
              "  </tbody>\n",
              "</table>\n",
              "<p>805 rows × 8 columns</p>\n",
              "</div>"
            ],
            "text/plain": [
              "       id  Total_Problems_Submit  ...  Submit_rate    CK\n",
              "0    1505                      8  ...     0.012618   0.0\n",
              "1    1122                      1  ...     0.001577   0.0\n",
              "2      76                     29  ...     0.045741   0.0\n",
              "3     823                     48  ...     0.075710   0.0\n",
              "4     562                     31  ...     0.048896   0.0\n",
              "..    ...                    ...  ...          ...   ...\n",
              "800  1328                    189  ...     0.298107   9.5\n",
              "801   264                    181  ...     0.285489   9.5\n",
              "802    24                     77  ...     0.121451   9.5\n",
              "803   343                    191  ...     0.301262  10.0\n",
              "804    27                      5  ...     0.007886  10.0\n",
              "\n",
              "[805 rows x 8 columns]"
            ]
          },
          "metadata": {
            "tags": []
          },
          "execution_count": 340
        }
      ]
    },
    {
      "cell_type": "code",
      "metadata": {
        "colab": {
          "base_uri": "https://localhost:8080/",
          "height": 569
        },
        "id": "AYaEHcmmqW3u",
        "outputId": "d66c874d-9cf8-45a6-912a-adc032b46041"
      },
      "source": [
        "# tỉ lệ nộp bài so với điểm thi cuối kì\n",
        "fig = plt.figure(figsize=(11,9))\n",
        "sns.scatterplot(data=train_data,  \n",
        "                x='Submit_rate',  \n",
        "                y='CK')\n",
        "plt.show"
      ],
      "execution_count": 341,
      "outputs": [
        {
          "output_type": "execute_result",
          "data": {
            "text/plain": [
              "<function matplotlib.pyplot.show>"
            ]
          },
          "metadata": {
            "tags": []
          },
          "execution_count": 341
        },
        {
          "output_type": "display_data",
          "data": {
            "image/png": "[encoded data removed]",
            "text/plain": [
              "<Figure size 792x648 with 1 Axes>"
            ]
          },
          "metadata": {
            "tags": []
          }
        }
      ]
    },
    {
      "cell_type": "code",
      "metadata": {
        "colab": {
          "base_uri": "https://localhost:8080/",
          "height": 569
        },
        "id": "Ulwfo39esIYK",
        "outputId": "24b6af23-b602-4b1f-d15a-bc29daf42260"
      },
      "source": [
        "fig = plt.figure(figsize=(11,9))\n",
        "sns.scatterplot(data=train_data,  \n",
        "                x='Correct_on_total',  \n",
        "                y='CK')\n",
        "plt.show"
      ],
      "execution_count": 342,
      "outputs": [
        {
          "output_type": "execute_result",
          "data": {
            "text/plain": [
              "<function matplotlib.pyplot.show>"
            ]
          },
          "metadata": {
            "tags": []
          },
          "execution_count": 342
        },
        {
          "output_type": "display_data",
          "data": {
            "image/png": "[encoded data removed]",
            "text/plain": [
              "<Figure size 792x648 with 1 Axes>"
            ]
          },
          "metadata": {
            "tags": []
          }
        }
      ]
    },
    {
      "cell_type": "code",
      "metadata": {
        "colab": {
          "base_uri": "https://localhost:8080/",
          "height": 402
        },
        "id": "_oxhLUsX0Jeh",
        "outputId": "edfe2f30-1ffb-4c88-9375-10d4a41020ca"
      },
      "source": [
        "temp=train_data.drop(columns=['id','Total_Problems_Submit'])\n",
        "temp"
      ],
      "execution_count": 358,
      "outputs": [
        {
          "output_type": "execute_result",
          "data": {
            "text/html": [
              "<div>\n",
              "<style scoped>\n",
              "    .dataframe tbody tr th:only-of-type {\n",
              "        vertical-align: middle;\n",
              "    }\n",
              "\n",
              "    .dataframe tbody tr th {\n",
              "        vertical-align: top;\n",
              "    }\n",
              "\n",
              "    .dataframe thead th {\n",
              "        text-align: right;\n",
              "    }\n",
              "</style>\n",
              "<table border=\"1\" class=\"dataframe\">\n",
              "  <thead>\n",
              "    <tr style=\"text-align: right;\">\n",
              "      <th></th>\n",
              "      <th>Time_Submits</th>\n",
              "      <th>Total_Correct_Submits</th>\n",
              "      <th>Total_Correct_Problems</th>\n",
              "      <th>Correct_on_total</th>\n",
              "      <th>Submit_rate</th>\n",
              "      <th>CK</th>\n",
              "    </tr>\n",
              "  </thead>\n",
              "  <tbody>\n",
              "    <tr>\n",
              "      <th>0</th>\n",
              "      <td>8</td>\n",
              "      <td>7</td>\n",
              "      <td>7</td>\n",
              "      <td>0.011041</td>\n",
              "      <td>0.012618</td>\n",
              "      <td>0.0</td>\n",
              "    </tr>\n",
              "    <tr>\n",
              "      <th>1</th>\n",
              "      <td>3</td>\n",
              "      <td>0</td>\n",
              "      <td>0</td>\n",
              "      <td>0.000000</td>\n",
              "      <td>0.001577</td>\n",
              "      <td>0.0</td>\n",
              "    </tr>\n",
              "    <tr>\n",
              "      <th>2</th>\n",
              "      <td>58</td>\n",
              "      <td>28</td>\n",
              "      <td>28</td>\n",
              "      <td>0.044164</td>\n",
              "      <td>0.045741</td>\n",
              "      <td>0.0</td>\n",
              "    </tr>\n",
              "    <tr>\n",
              "      <th>3</th>\n",
              "      <td>109</td>\n",
              "      <td>46</td>\n",
              "      <td>46</td>\n",
              "      <td>0.072555</td>\n",
              "      <td>0.075710</td>\n",
              "      <td>0.0</td>\n",
              "    </tr>\n",
              "    <tr>\n",
              "      <th>4</th>\n",
              "      <td>92</td>\n",
              "      <td>30</td>\n",
              "      <td>29</td>\n",
              "      <td>0.045741</td>\n",
              "      <td>0.048896</td>\n",
              "      <td>0.0</td>\n",
              "    </tr>\n",
              "    <tr>\n",
              "      <th>...</th>\n",
              "      <td>...</td>\n",
              "      <td>...</td>\n",
              "      <td>...</td>\n",
              "      <td>...</td>\n",
              "      <td>...</td>\n",
              "      <td>...</td>\n",
              "    </tr>\n",
              "    <tr>\n",
              "      <th>800</th>\n",
              "      <td>671</td>\n",
              "      <td>193</td>\n",
              "      <td>184</td>\n",
              "      <td>0.290221</td>\n",
              "      <td>0.298107</td>\n",
              "      <td>9.5</td>\n",
              "    </tr>\n",
              "    <tr>\n",
              "      <th>801</th>\n",
              "      <td>430</td>\n",
              "      <td>184</td>\n",
              "      <td>176</td>\n",
              "      <td>0.277603</td>\n",
              "      <td>0.285489</td>\n",
              "      <td>9.5</td>\n",
              "    </tr>\n",
              "    <tr>\n",
              "      <th>802</th>\n",
              "      <td>164</td>\n",
              "      <td>80</td>\n",
              "      <td>72</td>\n",
              "      <td>0.113565</td>\n",
              "      <td>0.121451</td>\n",
              "      <td>9.5</td>\n",
              "    </tr>\n",
              "    <tr>\n",
              "      <th>803</th>\n",
              "      <td>345</td>\n",
              "      <td>168</td>\n",
              "      <td>166</td>\n",
              "      <td>0.261830</td>\n",
              "      <td>0.301262</td>\n",
              "      <td>10.0</td>\n",
              "    </tr>\n",
              "    <tr>\n",
              "      <th>804</th>\n",
              "      <td>13</td>\n",
              "      <td>4</td>\n",
              "      <td>3</td>\n",
              "      <td>0.004732</td>\n",
              "      <td>0.007886</td>\n",
              "      <td>10.0</td>\n",
              "    </tr>\n",
              "  </tbody>\n",
              "</table>\n",
              "<p>805 rows × 6 columns</p>\n",
              "</div>"
            ],
            "text/plain": [
              "     Time_Submits  Total_Correct_Submits  ...  Submit_rate    CK\n",
              "0               8                      7  ...     0.012618   0.0\n",
              "1               3                      0  ...     0.001577   0.0\n",
              "2              58                     28  ...     0.045741   0.0\n",
              "3             109                     46  ...     0.075710   0.0\n",
              "4              92                     30  ...     0.048896   0.0\n",
              "..            ...                    ...  ...          ...   ...\n",
              "800           671                    193  ...     0.298107   9.5\n",
              "801           430                    184  ...     0.285489   9.5\n",
              "802           164                     80  ...     0.121451   9.5\n",
              "803           345                    168  ...     0.301262  10.0\n",
              "804            13                      4  ...     0.007886  10.0\n",
              "\n",
              "[805 rows x 6 columns]"
            ]
          },
          "metadata": {
            "tags": []
          },
          "execution_count": 358
        }
      ]
    },
    {
      "cell_type": "code",
      "metadata": {
        "id": "5RGHUorT0yPE"
      },
      "source": [
        "from sklearn.model_selection import train_test_split"
      ],
      "execution_count": 345,
      "outputs": []
    },
    {
      "cell_type": "code",
      "metadata": {
        "colab": {
          "base_uri": "https://localhost:8080/",
          "height": 343
        },
        "id": "E2aisQxHz3ky",
        "outputId": "b47ac729-b32e-4c39-cc0d-b08d53258519"
      },
      "source": [
        "X_1 = temp.iloc[:, :-1]\n",
        "y_1 = temp.iloc[:, -1:]\n",
        "x_train, X_test, y_train, y_test = train_test_split(X_1, y_1,\n",
        "                                                    test_size=0.1)\n",
        "\n",
        "x_train.head(10)"
      ],
      "execution_count": 360,
      "outputs": [
        {
          "output_type": "execute_result",
          "data": {
            "text/html": [
              "<div>\n",
              "<style scoped>\n",
              "    .dataframe tbody tr th:only-of-type {\n",
              "        vertical-align: middle;\n",
              "    }\n",
              "\n",
              "    .dataframe tbody tr th {\n",
              "        vertical-align: top;\n",
              "    }\n",
              "\n",
              "    .dataframe thead th {\n",
              "        text-align: right;\n",
              "    }\n",
              "</style>\n",
              "<table border=\"1\" class=\"dataframe\">\n",
              "  <thead>\n",
              "    <tr style=\"text-align: right;\">\n",
              "      <th></th>\n",
              "      <th>Time_Submits</th>\n",
              "      <th>Total_Correct_Submits</th>\n",
              "      <th>Total_Correct_Problems</th>\n",
              "      <th>Correct_on_total</th>\n",
              "      <th>Submit_rate</th>\n",
              "    </tr>\n",
              "  </thead>\n",
              "  <tbody>\n",
              "    <tr>\n",
              "      <th>718</th>\n",
              "      <td>161</td>\n",
              "      <td>86</td>\n",
              "      <td>86</td>\n",
              "      <td>0.135647</td>\n",
              "      <td>0.137224</td>\n",
              "    </tr>\n",
              "    <tr>\n",
              "      <th>19</th>\n",
              "      <td>114</td>\n",
              "      <td>85</td>\n",
              "      <td>83</td>\n",
              "      <td>0.130915</td>\n",
              "      <td>0.137224</td>\n",
              "    </tr>\n",
              "    <tr>\n",
              "      <th>752</th>\n",
              "      <td>271</td>\n",
              "      <td>93</td>\n",
              "      <td>90</td>\n",
              "      <td>0.141956</td>\n",
              "      <td>0.141956</td>\n",
              "    </tr>\n",
              "    <tr>\n",
              "      <th>660</th>\n",
              "      <td>574</td>\n",
              "      <td>254</td>\n",
              "      <td>248</td>\n",
              "      <td>0.391167</td>\n",
              "      <td>0.405363</td>\n",
              "    </tr>\n",
              "    <tr>\n",
              "      <th>139</th>\n",
              "      <td>261</td>\n",
              "      <td>114</td>\n",
              "      <td>112</td>\n",
              "      <td>0.176656</td>\n",
              "      <td>0.201893</td>\n",
              "    </tr>\n",
              "    <tr>\n",
              "      <th>356</th>\n",
              "      <td>238</td>\n",
              "      <td>85</td>\n",
              "      <td>84</td>\n",
              "      <td>0.132492</td>\n",
              "      <td>0.141956</td>\n",
              "    </tr>\n",
              "    <tr>\n",
              "      <th>506</th>\n",
              "      <td>255</td>\n",
              "      <td>147</td>\n",
              "      <td>141</td>\n",
              "      <td>0.222397</td>\n",
              "      <td>0.247634</td>\n",
              "    </tr>\n",
              "    <tr>\n",
              "      <th>593</th>\n",
              "      <td>28</td>\n",
              "      <td>10</td>\n",
              "      <td>10</td>\n",
              "      <td>0.015773</td>\n",
              "      <td>0.018927</td>\n",
              "    </tr>\n",
              "    <tr>\n",
              "      <th>780</th>\n",
              "      <td>422</td>\n",
              "      <td>185</td>\n",
              "      <td>176</td>\n",
              "      <td>0.277603</td>\n",
              "      <td>0.287066</td>\n",
              "    </tr>\n",
              "    <tr>\n",
              "      <th>377</th>\n",
              "      <td>69</td>\n",
              "      <td>48</td>\n",
              "      <td>47</td>\n",
              "      <td>0.074132</td>\n",
              "      <td>0.077287</td>\n",
              "    </tr>\n",
              "  </tbody>\n",
              "</table>\n",
              "</div>"
            ],
            "text/plain": [
              "     Time_Submits  Total_Correct_Submits  ...  Correct_on_total  Submit_rate\n",
              "718           161                     86  ...          0.135647     0.137224\n",
              "19            114                     85  ...          0.130915     0.137224\n",
              "752           271                     93  ...          0.141956     0.141956\n",
              "660           574                    254  ...          0.391167     0.405363\n",
              "139           261                    114  ...          0.176656     0.201893\n",
              "356           238                     85  ...          0.132492     0.141956\n",
              "506           255                    147  ...          0.222397     0.247634\n",
              "593            28                     10  ...          0.015773     0.018927\n",
              "780           422                    185  ...          0.277603     0.287066\n",
              "377            69                     48  ...          0.074132     0.077287\n",
              "\n",
              "[10 rows x 5 columns]"
            ]
          },
          "metadata": {
            "tags": []
          },
          "execution_count": 360
        }
      ]
    },
    {
      "cell_type": "markdown",
      "metadata": {
        "id": "OlSebgy05Sap"
      },
      "source": [
        "#Scale data"
      ]
    },
    {
      "cell_type": "code",
      "metadata": {
        "id": "m8a_nWOu5Peb"
      },
      "source": [
        "from sklearn.preprocessing import StandardScaler"
      ],
      "execution_count": null,
      "outputs": []
    },
    {
      "cell_type": "code",
      "metadata": {
        "id": "YSpnfNYU5Td1"
      },
      "source": [
        "scaler = StandardScaler()\n",
        "x_train = scaler.fit_transform(x_train)\n",
        "X_test = scaler.transform(X_test)"
      ],
      "execution_count": 363,
      "outputs": []
    },
    {
      "cell_type": "code",
      "metadata": {
        "colab": {
          "base_uri": "https://localhost:8080/"
        },
        "id": "FkOvS87TDJl7",
        "outputId": "93c5a0b9-eed2-4261-9537-b94cf0a8fa14"
      },
      "source": [
        "x_train"
      ],
      "execution_count": 364,
      "outputs": [
        {
          "output_type": "execute_result",
          "data": {
            "text/plain": [
              "array([[-0.48330561, -0.10012238, -0.02930218, -0.02930218, -0.12537887],\n",
              "       [-0.76814885, -0.1175538 , -0.08480397, -0.08480397, -0.12537887],\n",
              "       [ 0.18334878,  0.02189754,  0.04470019,  0.04470019, -0.07112759],\n",
              "       ...,\n",
              "       [ 0.97121306,  1.12007685,  1.09923409,  1.09923409,  1.32132196],\n",
              "       [-0.3863377 , -0.1175538 , -0.15880635, -0.15880635, -0.21579767],\n",
              "       [ 1.09848344,  1.48613662,  1.37674302,  1.37674302,  1.41174076]])"
            ]
          },
          "metadata": {
            "tags": []
          },
          "execution_count": 364
        }
      ]
    },
    {
      "cell_type": "markdown",
      "metadata": {
        "id": "l7g76g5wylyu"
      },
      "source": [
        "# Train model"
      ]
    },
    {
      "cell_type": "code",
      "metadata": {
        "id": "5qOmH25dyna4"
      },
      "source": [
        "from sklearn.linear_model import LogisticRegression\n",
        "from sklearn.linear_model import LinearRegression\n",
        "from sklearn import svm\n",
        "from sklearn.metrics import mean_squared_error\n",
        "from sklearn import tree"
      ],
      "execution_count": 365,
      "outputs": []
    },
    {
      "cell_type": "markdown",
      "metadata": {
        "id": "T-3BtaVU6m6S"
      },
      "source": [
        "## Linear Regression"
      ]
    },
    {
      "cell_type": "code",
      "metadata": {
        "id": "Pwmq85oey6OC"
      },
      "source": [
        "model = LinearRegression()\n",
        "model.fit(x_train, y_train)\n",
        "# predict\n",
        "y_pred = model.predict(X_test)"
      ],
      "execution_count": 371,
      "outputs": []
    },
    {
      "cell_type": "code",
      "metadata": {
        "colab": {
          "base_uri": "https://localhost:8080/"
        },
        "id": "3GlPkCUV4B9H",
        "outputId": "dd3f202e-dee5-47a9-b154-ad99faf0dd50"
      },
      "source": [
        "# Mean square error with original data\n",
        "print('mean square error: ', mean_squared_error(y_test,y_pred))"
      ],
      "execution_count": 372,
      "outputs": [
        {
          "output_type": "stream",
          "text": [
            "mean square error:  4.544414705602738\n"
          ],
          "name": "stdout"
        }
      ]
    },
    {
      "cell_type": "code",
      "metadata": {
        "colab": {
          "base_uri": "https://localhost:8080/"
        },
        "id": "V9-eGAuv4yPJ",
        "outputId": "e7ab843b-a221-4af7-d1b0-49d1b74eeffb"
      },
      "source": [
        "y_pred = np.round((y_pred*2))/2\n",
        "y_pred[:10]"
      ],
      "execution_count": 373,
      "outputs": [
        {
          "output_type": "execute_result",
          "data": {
            "text/plain": [
              "array([[6.5],\n",
              "       [8. ],\n",
              "       [8.5],\n",
              "       [7. ],\n",
              "       [5.5],\n",
              "       [6. ],\n",
              "       [6.5],\n",
              "       [5.5],\n",
              "       [5.5],\n",
              "       [6.5]])"
            ]
          },
          "metadata": {
            "tags": []
          },
          "execution_count": 373
        }
      ]
    },
    {
      "cell_type": "markdown",
      "metadata": {
        "id": "pdub9RoO6y8j"
      },
      "source": [
        "## Logistic Regression"
      ]
    },
    {
      "cell_type": "code",
      "metadata": {
        "id": "xuvmJtiK61Yc"
      },
      "source": [
        "y1_train = np.round(y_train*2)\n",
        "y1_train = y1_train.astype(int)\n",
        "y1_train"
      ],
      "execution_count": null,
      "outputs": []
    },
    {
      "cell_type": "code",
      "metadata": {
        "colab": {
          "base_uri": "https://localhost:8080/"
        },
        "id": "hzhJhs646-4h",
        "outputId": "b9b3c88a-ad08-4036-a272-e571f093fe10"
      },
      "source": [
        "model=LogisticRegression()\n",
        "model.fit(x_train,y1_train)"
      ],
      "execution_count": 378,
      "outputs": [
        {
          "output_type": "stream",
          "text": [
            "/usr/local/lib/python3.7/dist-packages/sklearn/utils/validation.py:760: DataConversionWarning: A column-vector y was passed when a 1d array was expected. Please change the shape of y to (n_samples, ), for example using ravel().\n",
            "  y = column_or_1d(y, warn=True)\n"
          ],
          "name": "stderr"
        },
        {
          "output_type": "execute_result",
          "data": {
            "text/plain": [
              "LogisticRegression(C=1.0, class_weight=None, dual=False, fit_intercept=True,\n",
              "                   intercept_scaling=1, l1_ratio=None, max_iter=100,\n",
              "                   multi_class='auto', n_jobs=None, penalty='l2',\n",
              "                   random_state=None, solver='lbfgs', tol=0.0001, verbose=0,\n",
              "                   warm_start=False)"
            ]
          },
          "metadata": {
            "tags": []
          },
          "execution_count": 378
        }
      ]
    },
    {
      "cell_type": "code",
      "metadata": {
        "colab": {
          "base_uri": "https://localhost:8080/"
        },
        "id": "wqq4uTym7E2K",
        "outputId": "8d4b9d03-990e-4472-d02a-4bf7c8d004a9"
      },
      "source": [
        "y_pred_lr = model.predict(X_test)\n",
        "# Mean square error with original data\n",
        "print('mean square error: ', mean_squared_error(y_test,y_pred_lr/2))"
      ],
      "execution_count": 379,
      "outputs": [
        {
          "output_type": "stream",
          "text": [
            "mean square error:  6.947204968944099\n"
          ],
          "name": "stdout"
        }
      ]
    },
    {
      "cell_type": "code",
      "metadata": {
        "colab": {
          "base_uri": "https://localhost:8080/"
        },
        "id": "w3W1dS6y7SqW",
        "outputId": "e297a209-0d75-4b96-8808-b86f6b81a164"
      },
      "source": [
        "y_pred_lr = y_pred_lr/2\n",
        "y_pred_lr"
      ],
      "execution_count": 380,
      "outputs": [
        {
          "output_type": "execute_result",
          "data": {
            "text/plain": [
              "array([8. , 9. , 8. , 8. , 7.5, 8. , 7.5, 7.5, 7.5, 7.5, 7.5, 7.5, 8. ,\n",
              "       7.5, 7.5, 7.5, 7.5, 7.5, 7.5, 0. , 8. , 7.5, 7.5, 8. , 7.5, 7.5,\n",
              "       7.5, 7.5, 9. , 7.5, 7.5, 8. , 7.5, 7.5, 7.5, 7.5, 7.5, 8. , 7.5,\n",
              "       8. , 7.5, 7.5, 8. , 8. , 7.5, 7.5, 8. , 7.5, 7.5, 7.5, 7.5, 8. ,\n",
              "       7.5, 8. , 7.5, 7.5, 7.5, 7.5, 7.5, 4.5, 8. , 8. , 8. , 7.5, 7.5,\n",
              "       8. , 8. , 7.5, 4.5, 7.5, 8. , 7.5, 7.5, 7.5, 7.5, 7.5, 7.5, 7.5,\n",
              "       7.5, 8. , 7.5, 7.5, 7.5, 7.5, 7.5, 9.5, 7.5, 7.5, 7.5, 7.5, 7.5,\n",
              "       8. , 7.5, 7.5, 7.5, 7.5, 7.5, 7.5, 7.5, 7.5, 7.5, 7.5, 7.5, 0. ,\n",
              "       7.5, 7.5, 7.5, 7.5, 8. , 8. , 7.5, 7.5, 4.5, 7.5, 7.5, 7.5, 7.5,\n",
              "       7.5, 7.5, 7.5, 0. , 7.5, 7.5, 8. , 0. , 4.5, 8. , 8. , 8. , 7.5,\n",
              "       7.5, 8. , 8. , 7.5, 7.5, 7.5, 8. , 7.5, 7.5, 7.5, 7.5, 7.5, 7.5,\n",
              "       7.5, 7.5, 7.5, 8. , 7.5, 8. , 7.5, 7.5, 8. , 7.5, 8. , 7.5, 8. ,\n",
              "       7.5, 7.5, 7.5, 8. , 8. ])"
            ]
          },
          "metadata": {
            "tags": []
          },
          "execution_count": 380
        }
      ]
    },
    {
      "cell_type": "markdown",
      "metadata": {
        "id": "LLQz-a6n9dnJ"
      },
      "source": [
        "## SVM"
      ]
    },
    {
      "cell_type": "code",
      "metadata": {
        "colab": {
          "base_uri": "https://localhost:8080/"
        },
        "id": "sg88fWDe9dZn",
        "outputId": "401a2dfd-7faf-448f-8ce5-9d14b33ee877"
      },
      "source": [
        "# train with svm\n",
        "model = svm.SVC()\n",
        "model.fit(x_train,y1_train)"
      ],
      "execution_count": 381,
      "outputs": [
        {
          "output_type": "stream",
          "text": [
            "/usr/local/lib/python3.7/dist-packages/sklearn/utils/validation.py:760: DataConversionWarning: A column-vector y was passed when a 1d array was expected. Please change the shape of y to (n_samples, ), for example using ravel().\n",
            "  y = column_or_1d(y, warn=True)\n"
          ],
          "name": "stderr"
        },
        {
          "output_type": "execute_result",
          "data": {
            "text/plain": [
              "SVC(C=1.0, break_ties=False, cache_size=200, class_weight=None, coef0=0.0,\n",
              "    decision_function_shape='ovr', degree=3, gamma='scale', kernel='rbf',\n",
              "    max_iter=-1, probability=False, random_state=None, shrinking=True,\n",
              "    tol=0.001, verbose=False)"
            ]
          },
          "metadata": {
            "tags": []
          },
          "execution_count": 381
        }
      ]
    },
    {
      "cell_type": "code",
      "metadata": {
        "colab": {
          "base_uri": "https://localhost:8080/"
        },
        "id": "ummVO1Mo9yow",
        "outputId": "0a1b2b69-d3de-4c2f-f3ae-f825bb52cb59"
      },
      "source": [
        "y_pred_svm = model.predict(X_test)\n",
        "# Mean square error with original data\n",
        "print('mean square error: ', mean_squared_error(y_test,y_pred_svm/2))"
      ],
      "execution_count": 382,
      "outputs": [
        {
          "output_type": "stream",
          "text": [
            "mean square error:  6.678571428571429\n"
          ],
          "name": "stdout"
        }
      ]
    },
    {
      "cell_type": "code",
      "metadata": {
        "colab": {
          "base_uri": "https://localhost:8080/"
        },
        "id": "WLbETEjD9_IA",
        "outputId": "02375cad-d098-4a5c-ae79-d4dcdc1763f7"
      },
      "source": [
        "y_pred_svm = y_pred_svm/2\n",
        "y_pred_svm"
      ],
      "execution_count": 383,
      "outputs": [
        {
          "output_type": "execute_result",
          "data": {
            "text/plain": [
              "array([8. , 8. , 8. , 8. , 7.5, 7.5, 7.5, 7.5, 7.5, 7. , 7.5, 7.5, 8. ,\n",
              "       7.5, 7.5, 7.5, 7.5, 7.5, 7.5, 7.5, 8. , 7.5, 7.5, 8. , 7.5, 7.5,\n",
              "       7.5, 7.5, 8. , 7.5, 7.5, 8. , 7.5, 7.5, 7.5, 7.5, 7.5, 8. , 7.5,\n",
              "       7. , 7.5, 7.5, 8. , 8. , 7.5, 7.5, 8. , 7. , 7.5, 7.5, 7.5, 8. ,\n",
              "       7.5, 8. , 7.5, 7.5, 7.5, 7.5, 7.5, 7.5, 7. , 8. , 7.5, 7.5, 7.5,\n",
              "       7. , 7. , 7.5, 7.5, 7.5, 8. , 7.5, 7.5, 7.5, 7.5, 7.5, 7.5, 7.5,\n",
              "       7.5, 8. , 7.5, 7.5, 7.5, 7.5, 7.5, 8. , 7.5, 7.5, 7.5, 7.5, 7.5,\n",
              "       7.5, 7.5, 7.5, 7.5, 7.5, 7.5, 7.5, 7.5, 7.5, 7.5, 7.5, 7. , 7.5,\n",
              "       7.5, 7.5, 7.5, 7.5, 7. , 8. , 7.5, 7.5, 7.5, 7.5, 7.5, 7.5, 7.5,\n",
              "       7.5, 7.5, 7. , 7.5, 7.5, 7.5, 8. , 7.5, 7.5, 7.5, 8. , 8. , 7.5,\n",
              "       7.5, 8. , 8. , 7.5, 7.5, 7.5, 7.5, 7.5, 7.5, 7.5, 7.5, 7.5, 7.5,\n",
              "       7.5, 7.5, 7.5, 7. , 7.5, 8. , 7.5, 7.5, 7. , 7.5, 7.5, 7.5, 8. ,\n",
              "       7.5, 7.5, 7.5, 8. , 7. ])"
            ]
          },
          "metadata": {
            "tags": []
          },
          "execution_count": 383
        }
      ]
    },
    {
      "cell_type": "markdown",
      "metadata": {
        "id": "5TX12xTO-jpf"
      },
      "source": [
        "##  Decision tree"
      ]
    },
    {
      "cell_type": "code",
      "metadata": {
        "colab": {
          "base_uri": "https://localhost:8080/"
        },
        "id": "tH7N6m6t-G9o",
        "outputId": "6d95e2bf-011e-4ad4-9b1b-56bc0541db76"
      },
      "source": [
        "# DecisionTree Classifier\n",
        "model = tree.DecisionTreeClassifier()\n",
        "model.fit(x_train,y1_train)"
      ],
      "execution_count": 385,
      "outputs": [
        {
          "output_type": "execute_result",
          "data": {
            "text/plain": [
              "DecisionTreeClassifier(ccp_alpha=0.0, class_weight=None, criterion='gini',\n",
              "                       max_depth=None, max_features=None, max_leaf_nodes=None,\n",
              "                       min_impurity_decrease=0.0, min_impurity_split=None,\n",
              "                       min_samples_leaf=1, min_samples_split=2,\n",
              "                       min_weight_fraction_leaf=0.0, presort='deprecated',\n",
              "                       random_state=None, splitter='best')"
            ]
          },
          "metadata": {
            "tags": []
          },
          "execution_count": 385
        }
      ]
    },
    {
      "cell_type": "code",
      "metadata": {
        "colab": {
          "base_uri": "https://localhost:8080/"
        },
        "id": "Tfc18CiH_BEZ",
        "outputId": "0c2ad277-3e2c-4596-ccc1-6e733935b777"
      },
      "source": [
        "y_pre = model.predict(X_test)\n",
        "# Mean square error with original data\n",
        "print('mean square error: ', mean_squared_error(y_test,y_pre/2))"
      ],
      "execution_count": 386,
      "outputs": [
        {
          "output_type": "stream",
          "text": [
            "mean square error:  7.6645962732919255\n"
          ],
          "name": "stdout"
        }
      ]
    },
    {
      "cell_type": "code",
      "metadata": {
        "colab": {
          "base_uri": "https://localhost:8080/"
        },
        "id": "XCwiVkad_K2S",
        "outputId": "a79b890b-b1b6-4cbb-bb0f-de109d55c375"
      },
      "source": [
        "y_pre/2"
      ],
      "execution_count": 387,
      "outputs": [
        {
          "output_type": "execute_result",
          "data": {
            "text/plain": [
              "array([ 9.5,  8.5,  8. ,  6. ,  7. ,  1.5,  6. ,  9. ,  6. ,  7.5,  3.5,\n",
              "        4.5,  8. ,  2.5,  6.5,  6.5,  6. ,  5.5,  4. ,  4.5,  6. ,  7. ,\n",
              "        7.5,  7.5,  7. ,  4. ,  9. ,  5. ,  8. ,  4. ,  2.5,  6.5,  0. ,\n",
              "        1. ,  6.5,  9.5,  8.5,  7. ,  5.5,  8. ,  8. ,  4.5,  8.5,  7.5,\n",
              "        4. ,  3.5,  7.5,  8. ,  4.5,  3. ,  5.5,  7.5,  7.5,  9. ,  7.5,\n",
              "        6.5,  8.5,  3.5,  5. ,  6. ,  8. ,  6. ,  8. ,  7. ,  5.5,  8. ,\n",
              "        8. ,  8.5,  4. ,  4.5,  7. ,  6.5,  8. ,  5.5,  7. ,  5.5,  7. ,\n",
              "        3.5,  5.5,  7.5,  6. ,  6. ,  5.5,  6.5,  5.5,  7. ,  5.5,  4. ,\n",
              "        2.5,  5. ,  3.5,  8.5,  5.5,  1. ,  2.5,  6.5,  4.5,  9. ,  3.5,\n",
              "        9. ,  5.5,  8.5,  7. , 10. ,  5.5,  7. ,  7. ,  9. ,  8. ,  6.5,\n",
              "        6.5,  8. ,  2.5,  5. ,  5.5,  4. ,  6. ,  3.5,  6. ,  8. ,  7.5,\n",
              "        5. ,  6. ,  7.5,  0. ,  0. ,  6. ,  7. ,  7.5,  4.5,  5. ,  7.5,\n",
              "        5.5,  8. ,  6. ,  5. ,  3.5,  9.5,  7.5,  8.5,  5.5,  5. ,  1. ,\n",
              "        3.5,  3. ,  2.5,  6. ,  7.5,  6.5,  6. ,  4. ,  7. ,  2.5,  8. ,\n",
              "        1. ,  9.5,  4. ,  8.5,  4. ,  8. ,  6.5])"
            ]
          },
          "metadata": {
            "tags": []
          },
          "execution_count": 387
        }
      ]
    },
    {
      "cell_type": "markdown",
      "metadata": {
        "id": "jcmSlfgYAh2g"
      },
      "source": [
        "# Other train method"
      ]
    },
    {
      "cell_type": "markdown",
      "metadata": {
        "id": "cxYo-igEAtou"
      },
      "source": [
        "## Random forest"
      ]
    },
    {
      "cell_type": "code",
      "metadata": {
        "id": "iecx2O_IAxr_"
      },
      "source": [
        "from sklearn.ensemble import RandomForestClassifier"
      ],
      "execution_count": 388,
      "outputs": []
    },
    {
      "cell_type": "code",
      "metadata": {
        "colab": {
          "base_uri": "https://localhost:8080/"
        },
        "id": "oCMK5THsAy2T",
        "outputId": "a904a501-6e77-4999-cf53-e28396203de9"
      },
      "source": [
        "clf = RandomForestClassifier(random_state=0)\n",
        "clf.fit(x_train,y1_train)"
      ],
      "execution_count": 389,
      "outputs": [
        {
          "output_type": "stream",
          "text": [
            "/usr/local/lib/python3.7/dist-packages/ipykernel_launcher.py:2: DataConversionWarning: A column-vector y was passed when a 1d array was expected. Please change the shape of y to (n_samples,), for example using ravel().\n",
            "  \n"
          ],
          "name": "stderr"
        },
        {
          "output_type": "execute_result",
          "data": {
            "text/plain": [
              "RandomForestClassifier(bootstrap=True, ccp_alpha=0.0, class_weight=None,\n",
              "                       criterion='gini', max_depth=None, max_features='auto',\n",
              "                       max_leaf_nodes=None, max_samples=None,\n",
              "                       min_impurity_decrease=0.0, min_impurity_split=None,\n",
              "                       min_samples_leaf=1, min_samples_split=2,\n",
              "                       min_weight_fraction_leaf=0.0, n_estimators=100,\n",
              "                       n_jobs=None, oob_score=False, random_state=0, verbose=0,\n",
              "                       warm_start=False)"
            ]
          },
          "metadata": {
            "tags": []
          },
          "execution_count": 389
        }
      ]
    },
    {
      "cell_type": "code",
      "metadata": {
        "colab": {
          "base_uri": "https://localhost:8080/"
        },
        "id": "LHx8jRONBGBS",
        "outputId": "3034ab8c-7978-4add-c0eb-ae3f0691a351"
      },
      "source": [
        "y_pre_rf = model.predict(X_test)\n",
        "# Mean square error with original data\n",
        "print('mean square error: ', mean_squared_error(y_test,y_pre_rf/2))"
      ],
      "execution_count": 390,
      "outputs": [
        {
          "output_type": "stream",
          "text": [
            "mean square error:  7.6645962732919255\n"
          ],
          "name": "stdout"
        }
      ]
    },
    {
      "cell_type": "markdown",
      "metadata": {
        "id": "loeWAJG6BUFj"
      },
      "source": [
        "## Gradient Boosting"
      ]
    },
    {
      "cell_type": "code",
      "metadata": {
        "id": "Vg31LDTWBYlK"
      },
      "source": [
        "from sklearn.ensemble import GradientBoostingClassifier"
      ],
      "execution_count": 391,
      "outputs": []
    },
    {
      "cell_type": "code",
      "metadata": {
        "colab": {
          "base_uri": "https://localhost:8080/"
        },
        "id": "5ngA7XfqBo2L",
        "outputId": "254dba3b-e4a3-49ef-e608-dd03bbe7045d"
      },
      "source": [
        "clf = GradientBoostingClassifier()\n",
        "clf.fit(x_train, y1_train)"
      ],
      "execution_count": 392,
      "outputs": [
        {
          "output_type": "stream",
          "text": [
            "/usr/local/lib/python3.7/dist-packages/sklearn/ensemble/_gb.py:1454: DataConversionWarning: A column-vector y was passed when a 1d array was expected. Please change the shape of y to (n_samples, ), for example using ravel().\n",
            "  y = column_or_1d(y, warn=True)\n"
          ],
          "name": "stderr"
        },
        {
          "output_type": "execute_result",
          "data": {
            "text/plain": [
              "GradientBoostingClassifier(ccp_alpha=0.0, criterion='friedman_mse', init=None,\n",
              "                           learning_rate=0.1, loss='deviance', max_depth=3,\n",
              "                           max_features=None, max_leaf_nodes=None,\n",
              "                           min_impurity_decrease=0.0, min_impurity_split=None,\n",
              "                           min_samples_leaf=1, min_samples_split=2,\n",
              "                           min_weight_fraction_leaf=0.0, n_estimators=100,\n",
              "                           n_iter_no_change=None, presort='deprecated',\n",
              "                           random_state=None, subsample=1.0, tol=0.0001,\n",
              "                           validation_fraction=0.1, verbose=0,\n",
              "                           warm_start=False)"
            ]
          },
          "metadata": {
            "tags": []
          },
          "execution_count": 392
        }
      ]
    },
    {
      "cell_type": "code",
      "metadata": {
        "colab": {
          "base_uri": "https://localhost:8080/"
        },
        "id": "h7gKSNFKBtr7",
        "outputId": "e2143b1b-c35c-4c7f-9f88-7cbc448f3404"
      },
      "source": [
        "y_pre_gb = model.predict(X_test)\n",
        "# Mean square error with original data\n",
        "print('mean square error: ', mean_squared_error(y_test,y_pre_gb/2))"
      ],
      "execution_count": 393,
      "outputs": [
        {
          "output_type": "stream",
          "text": [
            "mean square error:  7.6645962732919255\n"
          ],
          "name": "stdout"
        }
      ]
    },
    {
      "cell_type": "code",
      "metadata": {
        "colab": {
          "base_uri": "https://localhost:8080/"
        },
        "id": "2EptFi9rK5Tn",
        "outputId": "6f60fb17-6219-4d58-9665-ade3525c830e"
      },
      "source": [
        "y_pre_gb=y_pre_gb/2\n",
        "y_pre_gb"
      ],
      "execution_count": 394,
      "outputs": [
        {
          "output_type": "execute_result",
          "data": {
            "text/plain": [
              "array([ 9.5,  8.5,  8. ,  6. ,  7. ,  1.5,  6. ,  9. ,  6. ,  7.5,  3.5,\n",
              "        4.5,  8. ,  2.5,  6.5,  6.5,  6. ,  5.5,  4. ,  4.5,  6. ,  7. ,\n",
              "        7.5,  7.5,  7. ,  4. ,  9. ,  5. ,  8. ,  4. ,  2.5,  6.5,  0. ,\n",
              "        1. ,  6.5,  9.5,  8.5,  7. ,  5.5,  8. ,  8. ,  4.5,  8.5,  7.5,\n",
              "        4. ,  3.5,  7.5,  8. ,  4.5,  3. ,  5.5,  7.5,  7.5,  9. ,  7.5,\n",
              "        6.5,  8.5,  3.5,  5. ,  6. ,  8. ,  6. ,  8. ,  7. ,  5.5,  8. ,\n",
              "        8. ,  8.5,  4. ,  4.5,  7. ,  6.5,  8. ,  5.5,  7. ,  5.5,  7. ,\n",
              "        3.5,  5.5,  7.5,  6. ,  6. ,  5.5,  6.5,  5.5,  7. ,  5.5,  4. ,\n",
              "        2.5,  5. ,  3.5,  8.5,  5.5,  1. ,  2.5,  6.5,  4.5,  9. ,  3.5,\n",
              "        9. ,  5.5,  8.5,  7. , 10. ,  5.5,  7. ,  7. ,  9. ,  8. ,  6.5,\n",
              "        6.5,  8. ,  2.5,  5. ,  5.5,  4. ,  6. ,  3.5,  6. ,  8. ,  7.5,\n",
              "        5. ,  6. ,  7.5,  0. ,  0. ,  6. ,  7. ,  7.5,  4.5,  5. ,  7.5,\n",
              "        5.5,  8. ,  6. ,  5. ,  3.5,  9.5,  7.5,  8.5,  5.5,  5. ,  1. ,\n",
              "        3.5,  3. ,  2.5,  6. ,  7.5,  6.5,  6. ,  4. ,  7. ,  2.5,  8. ,\n",
              "        1. ,  9.5,  4. ,  8.5,  4. ,  8. ,  6.5])"
            ]
          },
          "metadata": {
            "tags": []
          },
          "execution_count": 394
        }
      ]
    }
  ]
}