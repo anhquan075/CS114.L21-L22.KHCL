{
  "nbformat": 4,
  "nbformat_minor": 0,
  "metadata": {
    "kernelspec": {
      "display_name": "Python 3",
      "language": "python",
      "name": "python3"
    },
    "language_info": {
      "codemirror_mode": {
        "name": "ipython",
        "version": 3
      },
      "file_extension": ".py",
      "mimetype": "text/x-python",
      "name": "python",
      "nbconvert_exporter": "python",
      "pygments_lexer": "ipython3",
      "version": "3.9.1"
    },
    "colab": {
      "name": "Copy of CS114.L21-L22.KHCL.ipynb",
      "provenance": [],
      "collapsed_sections": [],
      "toc_visible": true
    },
    "accelerator": "GPU"
  },
  "cells": [
    {
      "cell_type": "code",
      "metadata": {
        "id": "ewZzvw-h3Mr0"
      },
      "source": [
        "%matplotlib inline"
      ],
      "execution_count": 1,
      "outputs": []
    },
    {
      "cell_type": "markdown",
      "metadata": {
        "id": "d595EZXu3Mr8"
      },
      "source": [
        "\n",
        "# Nhận dạng chữ số viết tay\n",
        "\n",
        "Bài tập này chúng ta sẽ sử dụng thư viện scikit-learn để nhận diện chữ số viết tay với các số từ 0 tới 9\n"
      ]
    },
    {
      "cell_type": "markdown",
      "metadata": {
        "id": "ua4eLyZdDVds"
      },
      "source": [
        "Import các thư viện cần thiết"
      ]
    },
    {
      "cell_type": "code",
      "metadata": {
        "colab": {
          "base_uri": "https://localhost:8080/"
        },
        "id": "7Hqt7PKF3Mr9",
        "outputId": "8a2bb19e-c017-40d4-f266-eda02f9e8410"
      },
      "source": [
        "print(__doc__)\n",
        "\n",
        "# Author: Gael Varoquaux <gael dot varoquaux at normalesup dot org>\n",
        "# License: BSD 3 clause\n",
        "\n",
        "# Standard scientific Python imports\n",
        "import matplotlib.pyplot as plt\n",
        "from collections import Counter\n",
        "import plotly.graph_objects as go\n",
        "import numpy as np\n",
        "\n",
        "# Import datasets, classifiers and performance metrics\n",
        "from sklearn import datasets, svm, metrics\n",
        "from sklearn.model_selection import train_test_split\n",
        "from sklearn.model_selection import GridSearchCV"
      ],
      "execution_count": 2,
      "outputs": [
        {
          "output_type": "stream",
          "text": [
            "Automatically created module for IPython interactive environment\n"
          ],
          "name": "stdout"
        }
      ]
    },
    {
      "cell_type": "markdown",
      "metadata": {
        "id": "Iy6PUxpC3Mr9"
      },
      "source": [
        "## Bộ dữ liệu về chữ số\n",
        "\n",
        "Bộ dữ liệu về chữ số dưới đây là tập hợp của các ảnh với kích thước 8x8. \n",
        "- Trường ``images`` trong bộ dữ liệu của chúng ta là một tập hợp của các mảng có kích thước 8x8 với các giá trị mức xám cho mỗi ảnh\n",
        "- Trường ``target`` trong bộ dữ liệu chứa các giá trị là chữ số mà mỗi ảnh đại diện cho \n",
        "\n",
        "Chúng ta có hình ảnh minh họa của bộ dữ liệu ở phía dưới đây\n",
        "\n"
      ]
    },
    {
      "cell_type": "code",
      "metadata": {
        "colab": {
          "base_uri": "https://localhost:8080/",
          "height": 168
        },
        "id": "Xnu05tkP3Mr-",
        "outputId": "9d197a66-fd01-41a9-a183-edcfd8f6c0f0"
      },
      "source": [
        "digits = datasets.load_digits()\n",
        "\n",
        "_, axes = plt.subplots(nrows=1, ncols=4, figsize=(10, 3))\n",
        "for ax, image, label in zip(axes, digits.images, digits.target):\n",
        "    ax.set_axis_off()\n",
        "    ax.imshow(image, cmap=plt.cm.gray_r, interpolation='nearest')\n",
        "    ax.set_title('Training: %i' % label)"
      ],
      "execution_count": 3,
      "outputs": [
        {
          "output_type": "display_data",
          "data": {
            "image/png": "[encoded data removed]",
            "text/plain": [
              "<Figure size 720x216 with 4 Axes>"
            ]
          },
          "metadata": {
            "tags": [],
            "needs_background": "light"
          }
        }
      ]
    },
    {
      "cell_type": "markdown",
      "metadata": {
        "id": "8n85Zgno5wS_"
      },
      "source": [
        "Bộ dữ liệu của chúng ta có 1792 ảnh và tất cả các ảnh đều được gán nhãn đầy đủ"
      ]
    },
    {
      "cell_type": "code",
      "metadata": {
        "id": "Ti_ULOK16FMb"
      },
      "source": [
        "digits_counter = Counter(digits.target)\n",
        "digits_counter_keys = list(digits_counter.keys())\n",
        "digits_counter_values = list(digits_counter.values())"
      ],
      "execution_count": 6,
      "outputs": []
    },
    {
      "cell_type": "markdown",
      "metadata": {
        "id": "1amtFGGhGvq1"
      },
      "source": [
        "Ta có biểu đồ phân bố của mỗi nhãn trên mỗi chữ số ở bên dưới"
      ]
    },
    {
      "cell_type": "code",
      "metadata": {
        "colab": {
          "base_uri": "https://localhost:8080/",
          "height": 567
        },
        "id": "C0tjL3fd9okD",
        "outputId": "c731f081-47e3-40fa-ff96-b252a7fdf55b"
      },
      "source": [
        "import numpy as np\n",
        "import matplotlib.pyplot as plt\n",
        "\n",
        "fig = plt.figure(figsize = (21, 9))\n",
        "plt.bar(digits_counter_keys, digits_counter_values, color ='maroon', width = 0.5)\n",
        "\n",
        "plt.xticks(digits_counter_keys)\n",
        "plt.xlabel(\"Labels of image\")\n",
        "plt.ylabel(\"Count\")\n",
        "plt.title(\"Distribution of per digits images\")\n",
        "plt.show()"
      ],
      "execution_count": 7,
      "outputs": [
        {
          "output_type": "display_data",
          "data": {
            "image/png": "[encoded data removed]",
            "text/plain": [
              "<Figure size 1512x648 with 1 Axes>"
            ]
          },
          "metadata": {
            "tags": [],
            "needs_background": "light"
          }
        }
      ]
    },
    {
      "cell_type": "markdown",
      "metadata": {
        "id": "xnqr3o70-GWb"
      },
      "source": [
        "Thông qua biểu đồ trên ta có một số nhận xét như sau:\n",
        "- Thứ nhất, là hầu hết số lượng của mỗi chữ số đều khoảng xấp xỉ bằng nhau -> Dữ liệu của chúng ta khá cân bằng, không phải lo về việc model của chúng ta bị bias qua các features có số lượng nhiều hơn"
      ]
    },
    {
      "cell_type": "markdown",
      "metadata": {
        "id": "TxF08PNC3Mr-"
      },
      "source": [
        "## Classification\n",
        "\n",
        "\n",
        "Để áp dụng một mô hình phân lớp cho dữ liệu của chúng ta, chúng ta cần vector hóa bức ảnh bằng cách biến đổi từ mảng hai chiều với kich thước ``(8, 8)`` thành một vector với số chiều ``(64,)``\n",
        "\n",
        "Chúng ta phân chia dữ liệu thành hai phần là ```train``` và ```test```\n"
      ]
    },
    {
      "cell_type": "markdown",
      "metadata": {
        "id": "NBHp7K5QLpr1"
      },
      "source": [
        "Ở đây chúng ta sử dụng phương pháp SVM của hệ số gamma là ```0.001``` và tune siêu tham số bằng ```GridSearchCV```"
      ]
    },
    {
      "cell_type": "code",
      "metadata": {
        "id": "uiiZWA_d3Mr_"
      },
      "source": [
        "# flatten the images\n",
        "n_samples = len(digits.images)\n",
        "data = digits.images.reshape((n_samples, -1))\n",
        "\n",
        "# Create a classifier: a support vector classifier\n",
        "svc = svm.SVC(gamma=0.001)\n",
        "\n",
        "# Using GridSearchCV to tunning hyperparmaters\n",
        "parameters = {'kernel':('linear', 'rbf'), 'C':[1, 100]}\n",
        "clf = GridSearchCV(svc, parameters)\n",
        "\n",
        "# Split data into 50% train and 50% test subsets\n",
        "X_train, X_test, y_train, y_test = train_test_split(\n",
        "    data, digits.target, test_size=0.5, shuffle=True)\n",
        "\n",
        "# Learn the digits on the train subset\n",
        "clf.fit(X_train, y_train)\n",
        "\n",
        "# Predict the value of the digit on the test subset\n",
        "y_predicted = clf.predict(X_test)"
      ],
      "execution_count": 129,
      "outputs": []
    },
    {
      "cell_type": "markdown",
      "metadata": {
        "id": "vXHhtdiz3Mr_"
      },
      "source": [
        "Phía dưới đây là 4 kết quả được chọn ngẫu nhiên từ mô hình phân lớp cho bộ dữ liệu test "
      ]
    },
    {
      "cell_type": "code",
      "metadata": {
        "colab": {
          "base_uri": "https://localhost:8080/",
          "height": 200
        },
        "id": "cmHokkvqOaM4",
        "outputId": "fdf60923-bdbf-4ddf-e596-c13b025298db"
      },
      "source": [
        "_, axes = plt.subplots(nrows=1, ncols=4, figsize=(10, 3))\n",
        "for ax, image, gt, prediction in zip(axes, X_test, y_test, y_predicted):\n",
        "    image = image.reshape(8, 8)\n",
        "    ax.imshow(image, cmap=plt.cm.gray_r, interpolation='nearest')\n",
        "    ax.set_title(f'Ground Truth: {gt}\\nPrediction: {prediction}')"
      ],
      "execution_count": 130,
      "outputs": [
        {
          "output_type": "display_data",
          "data": {
            "image/png": "[encoded data removed]",
            "text/plain": [
              "<Figure size 720x216 with 4 Axes>"
            ]
          },
          "metadata": {
            "tags": [],
            "needs_background": "light"
          }
        }
      ]
    },
    {
      "cell_type": "markdown",
      "metadata": {
        "id": "ubiRBC6H3MsA"
      },
      "source": [
        ":func:`~sklearn.metrics.classification_report`  dùng hàm này để trả về một bảng báo cáo về các kết quả độ đo trong bài toán phân lớp\n",
        "\n"
      ]
    },
    {
      "cell_type": "code",
      "metadata": {
        "colab": {
          "base_uri": "https://localhost:8080/"
        },
        "id": "1uIBtFm33MsA",
        "outputId": "d603f6a0-dc89-45d7-be65-44c2e815fb6f"
      },
      "source": [
        "print(f\"Classification report for classifier {clf}:\\n\"\n",
        "      f\"{metrics.classification_report(y_test, y_predicted)}\\n\")"
      ],
      "execution_count": 131,
      "outputs": [
        {
          "output_type": "stream",
          "text": [
            "Classification report for classifier GridSearchCV(cv=None, error_score=nan,\n",
            "             estimator=SVC(C=1.0, break_ties=False, cache_size=200,\n",
            "                           class_weight=None, coef0=0.0,\n",
            "                           decision_function_shape='ovr', degree=3, gamma=0.001,\n",
            "                           kernel='rbf', max_iter=-1, probability=False,\n",
            "                           random_state=None, shrinking=True, tol=0.001,\n",
            "                           verbose=False),\n",
            "             iid='deprecated', n_jobs=None,\n",
            "             param_grid={'C': [1, 100], 'kernel': ('linear', 'rbf')},\n",
            "             pre_dispatch='2*n_jobs', refit=True, return_train_score=False,\n",
            "             scoring=None, verbose=0):\n",
            "              precision    recall  f1-score   support\n",
            "\n",
            "           0       1.00      0.99      0.99        79\n",
            "           1       1.00      0.99      0.99        98\n",
            "           2       0.99      1.00      0.99        90\n",
            "           3       0.98      0.95      0.97        88\n",
            "           4       0.99      1.00      0.99        89\n",
            "           5       0.97      0.98      0.97        99\n",
            "           6       1.00      1.00      1.00        89\n",
            "           7       1.00      0.99      0.99        85\n",
            "           8       0.97      0.99      0.98        88\n",
            "           9       0.97      0.97      0.97        94\n",
            "\n",
            "    accuracy                           0.99       899\n",
            "   macro avg       0.99      0.99      0.99       899\n",
            "weighted avg       0.99      0.99      0.99       899\n",
            "\n",
            "\n"
          ],
          "name": "stdout"
        }
      ]
    },
    {
      "cell_type": "markdown",
      "metadata": {
        "id": "4-zkmVAC3MsA"
      },
      "source": [
        "Chúng ta có thể sử dụng **ma trận nhầm lẫn** `confusion matrix <confusion_matrix>` để theo dõi một cách trực quan các trường hợp bị lỗi\n"
      ]
    },
    {
      "cell_type": "code",
      "metadata": {
        "colab": {
          "base_uri": "https://localhost:8080/",
          "height": 495
        },
        "id": "f6BI64lZ3MsB",
        "outputId": "a2f3d2cb-28e1-4312-d91d-2daba9632c35"
      },
      "source": [
        "disp = metrics.plot_confusion_matrix(clf, X_test, y_test)\n",
        "disp.figure_.suptitle(\"Confusion Matrix\")\n",
        "print(f\"Confusion matrix:\\n{disp.confusion_matrix}\")\n",
        "\n",
        "plt.show()"
      ],
      "execution_count": 132,
      "outputs": [
        {
          "output_type": "stream",
          "text": [
            "Confusion matrix:\n",
            "[[78  0  0  0  1  0  0  0  0  0]\n",
            " [ 0 97  0  0  0  1  0  0  0  0]\n",
            " [ 0  0 90  0  0  0  0  0  0  0]\n",
            " [ 0  0  1 84  0  1  0  0  2  0]\n",
            " [ 0  0  0  0 89  0  0  0  0  0]\n",
            " [ 0  0  0  0  0 97  0  0  0  2]\n",
            " [ 0  0  0  0  0  0 89  0  0  0]\n",
            " [ 0  0  0  0  0  0  0 84  0  1]\n",
            " [ 0  0  0  1  0  0  0  0 87  0]\n",
            " [ 0  0  0  1  0  1  0  0  1 91]]\n"
          ],
          "name": "stdout"
        },
        {
          "output_type": "display_data",
          "data": {
            "image/png": "[encoded data removed]",
            "text/plain": [
              "<Figure size 432x288 with 2 Axes>"
            ]
          },
          "metadata": {
            "tags": [],
            "needs_background": "light"
          }
        }
      ]
    },
    {
      "cell_type": "markdown",
      "metadata": {
        "id": "KP5y6qGC4Qu3"
      },
      "source": [
        "# Sử dụng webcam để thử nghiệm của bộ dữ liệu từ chữ số viết tay từ người dùng"
      ]
    },
    {
      "cell_type": "code",
      "metadata": {
        "id": "HUkoGEDuKASk"
      },
      "source": [
        "from IPython.display import display, Javascript\n",
        "from google.colab.output import eval_js\n",
        "from base64 import b64decode\n",
        "\n",
        "def take_photo(filename='photo.jpg', quality=0.8):\n",
        "  js = Javascript('''\n",
        "    async function takePhoto(quality) {\n",
        "      const div = document.createElement('div');\n",
        "      const capture = document.createElement('button');\n",
        "      capture.textContent = 'Capture';\n",
        "      div.appendChild(capture);\n",
        "\n",
        "      const video = document.createElement('video');\n",
        "      video.style.display = 'block';\n",
        "      const stream = await navigator.mediaDevices.getUserMedia({video: true});\n",
        "\n",
        "      document.body.appendChild(div);\n",
        "      div.appendChild(video);\n",
        "      video.srcObject = stream;\n",
        "      await video.play();\n",
        "\n",
        "      // Resize the output to fit the video element.\n",
        "      google.colab.output.setIframeHeight(document.documentElement.scrollHeight, true);\n",
        "\n",
        "      // Wait for Capture to be clicked.\n",
        "      await new Promise((resolve) => capture.onclick = resolve);\n",
        "\n",
        "      const canvas = document.createElement('canvas');\n",
        "      canvas.width = video.videoWidth;\n",
        "      canvas.height = video.videoHeight;\n",
        "      canvas.getContext('2d').drawImage(video, 0, 0);\n",
        "      stream.getVideoTracks()[0].stop();\n",
        "      div.remove();\n",
        "      return canvas.toDataURL('image/jpeg', quality);\n",
        "    }\n",
        "    ''')\n",
        "  display(js)\n",
        "  data = eval_js('takePhoto({})'.format(quality))\n",
        "  binary = b64decode(data.split(',')[1])\n",
        "  with open(filename, 'wb') as f:\n",
        "    f.write(binary)\n",
        "  return filename"
      ],
      "execution_count": 12,
      "outputs": []
    },
    {
      "cell_type": "code",
      "metadata": {
        "id": "7onPbKIgFCh1"
      },
      "source": [
        "my_data = []"
      ],
      "execution_count": 118,
      "outputs": []
    },
    {
      "cell_type": "code",
      "metadata": {
        "id": "RqjxR-188d6T"
      },
      "source": [
        "import os\n",
        "from IPython.display import Image\n",
        "\n",
        "# Tạo file lưu ảnh vừa chụp\n",
        "dir = 'images'  #directory\n",
        "if not os.path.exists(dir):\n",
        "    os.makedirs(dir)\n",
        "\n",
        "# get file directory\n",
        "def image_name(n):\n",
        "  return f'{dir}/image-{n}.jpg'\n",
        "\n",
        "try:\n",
        "  # Tăng i làm tên file tránh ghi đè ảnh cũ\n",
        "  i = 0\n",
        "  while os.path.isfile(image_name(i)):\n",
        "    i += 1\n",
        "  filename = take_photo(image_name(i))\n",
        "  print('Saved to {}'.format(filename))\n",
        "  \n",
        "  # Ảnh vừa chụp\n",
        "  display(Image(filename))\n",
        "\n",
        "  # Gán label cho ảnh vừa chụp\n",
        "  while True:\n",
        "    label = int(input(\"Please label your image: \"))\n",
        "    if label not in range(0, 10):\n",
        "      continue\n",
        "    else: \n",
        "      break\n",
        "\n",
        "  my_data.append([label, filename])\n",
        "\n",
        "except Exception as err:\n",
        "  # Errors will be thrown if the user does not have a webcam or if they do not\n",
        "  # grant the page permission to access it.\n",
        "  print(str(err))"
      ],
      "execution_count": null,
      "outputs": []
    },
    {
      "cell_type": "code",
      "metadata": {
        "id": "dRVrwKa5KASm"
      },
      "source": [
        "'''\n",
        "from IPython.display import Image\n",
        "try:\n",
        "  filename = take_photo()\n",
        "  print('Saved to {}'.format(filename))\n",
        "  \n",
        "  # Show the image which was just taken.\n",
        "  display(Image(filename))\n",
        "except Exception as err:\n",
        "  # Errors will be thrown if the user does not have a webcam or if they do not\n",
        "  # grant the page permission to access it.\n",
        "  print(str(err))\n",
        "'''"
      ],
      "execution_count": null,
      "outputs": []
    },
    {
      "cell_type": "code",
      "metadata": {
        "id": "en7n3F-dJVGM"
      },
      "source": [
        "print(my_data)"
      ],
      "execution_count": null,
      "outputs": []
    },
    {
      "cell_type": "code",
      "metadata": {
        "id": "P8ooYgO4HD9p"
      },
      "source": [
        "img = cv2.imread(my_data[9][1])\n",
        "cv2_imshow(img)\n",
        "img = cv2.resize(img, (8, 8), interpolation = cv2.INTER_AREA)\n",
        "img = cv2.cvtColor(img, cv2.COLOR_BGR2GRAY)\n",
        "plt.imshow(img, cmap=plt.cm.gray_r, interpolation='nearest')\n",
        "img = 16-(img/16)\n",
        "print('Predicted label:', clf.predict([img.flatten()])[0])"
      ],
      "execution_count": null,
      "outputs": []
    },
    {
      "cell_type": "markdown",
      "metadata": {
        "id": "YZ-tKOZzJDzh"
      },
      "source": [
        "# **Trả lời câu hỏi bài tập**\n",
        "\n",
        "---\n"
      ]
    },
    {
      "cell_type": "markdown",
      "metadata": {
        "id": "v4rj-G1FNy8X"
      },
      "source": [
        "# Kết quả chạy thực tế với webcam của laptop và giấy viết tay của các bạn có tốt không?\n",
        "\n",
        "* Kết quả chạy thực tế bằng webcam của laptop rất khác biệt so với kết quả của dữ liệu test. Có thể kết luận rằng kết quả chưa tốt.\n",
        "\n",
        "#Ủa mà nhìn vào đâu để kết luận là tốt hay không?\n",
        "Nhìn vào kết quả đầu ra và nhãn của ảnh đưa vào.\n",
        "\n",
        "*   Nhìn vào kết quả đầu ra và nhãn của ảnh đưa vào.\n",
        "* Các test dự đoán không tốt như image-0.jpg, image-1.jpg, image-3.jpg, image-4.jpg, image-5.jpg, image-6.jpg.\n",
        "\n",
        "#Nếu không tốt thì lý do tại sao?\n",
        "\n",
        "\n",
        "* Thực tế ảnh chịu ảnh hưởng cực lớn bởi các yếu tố bên ngoài ví dụ như: ánh sáng, độ tương phản, nét viết đậm nhạt,nền chữ số không hoàn toàn trắng, góc chụp, v.v .\n",
        "* Bước tiền xử lý ảnh có thể làm mất mát thông tin của bức ảnh.\n",
        "* Lượng ảnh trong dataset khá nhỏ chỉ 1792 ảnh.\n",
        "\n",
        "#Nếu tốt thì tiếp theo có thể dùng model digits recognition này vào các bài toán phức tạp hơn như nhận dạng biển số nhà không?\n",
        "\n",
        "* Câu trả lời là không. Bởi hạn chế lớn nhất của dataset chỉ nhận diện được giá trị trong khoảng [0,9] và rất ít số nhà trong thực tế thỏa điều kiện nêu trên.\n",
        "\n",
        "\n",
        "\n",
        "\n",
        "\n",
        "\n",
        "\n"
      ]
    }
  ]
}